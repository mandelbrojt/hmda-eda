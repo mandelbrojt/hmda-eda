{
 "cells": [
  {
   "attachments": {},
   "cell_type": "markdown",
   "metadata": {},
   "source": [
    "# Mortgage Lending Analysis"
   ]
  },
  {
   "attachments": {},
   "cell_type": "markdown",
   "metadata": {},
   "source": [
    "<img\n",
    "    style=\"width:800px; height:300px; object-fit:cover;\"\n",
    "    src=\"https://free4kwallpapers.com/uploads/originals/2018/06/09/itap-of-some-more-beach-houses-wallpaper.jpg\"\n",
    "/>"
   ]
  },
  {
   "attachments": {},
   "cell_type": "markdown",
   "metadata": {},
   "source": [
    "## Introduction"
   ]
  },
  {
   "attachments": {},
   "cell_type": "markdown",
   "metadata": {},
   "source": [
    "This project will conduct an **exploratory data analysis** of the modified Home Mortgage Disclosure Act (HMDA) [2022 Loan Application Register](https://ffiec.cfpb.gov/documentation/2022/publications/modified-lar/) (LAR) data. \n",
    "\n",
    "The data contains **loan-level information filed by financial institutions** and modified by the [Consumer Financial Protection Bureau](https://www.consumerfinance.gov/) (CFPB) to protect the privacy of borrowers and lenders.\n",
    "\n",
    "The HMDA is a United States federal law that requires financial institutions to maintain, report, and publicly disclose loan-level information about **mortgages**.\n",
    "\n",
    "A detailed explanation of the data fields and definitions can be found in the [HMDA Documentation](https://ffiec.cfpb.gov/documentation/2022/lar-data-fields/)."
   ]
  },
  {
   "cell_type": "code",
   "execution_count": 1,
   "metadata": {},
   "outputs": [
    {
     "name": "stdout",
     "output_type": "stream",
     "text": [
      "Size: 3736212304 bytes\n",
      "Lines: 16076740\n"
     ]
    }
   ],
   "source": [
    "# Print the file size in bytes and the number of lines\n",
    "!stat -f \"Size: %z bytes\" ./data/2022_combined_mlar_header.txt && wc -l ./data/2022_combined_mlar_header.txt | awk '{print \"Lines:\", $1}'"
   ]
  },
  {
   "attachments": {},
   "cell_type": "markdown",
   "metadata": {},
   "source": [
    "The file is **3.7 gigabytes** in size **after decompression** and contains approximately **16 million records**.\n",
    "\n",
    "The data can be downloaded directly from [here](https://s3.amazonaws.com/cfpb-hmda-public/prod/dynamic-data/combined-mlar/2022/header/2022_combined_mlar_header.zip) as a `.zip` file."
   ]
  },
  {
   "attachments": {},
   "cell_type": "markdown",
   "metadata": {},
   "source": [
    "> **Note**: For more details on this project, please refer to its [Github repository](https://github.com/mandelbrojt/hum-dah)."
   ]
  },
  {
   "attachments": {},
   "cell_type": "markdown",
   "metadata": {},
   "source": [
    "## Data Preparation"
   ]
  },
  {
   "attachments": {},
   "cell_type": "markdown",
   "metadata": {},
   "source": [
    "### Importing Libraries and Modules"
   ]
  },
  {
   "attachments": {},
   "cell_type": "markdown",
   "metadata": {},
   "source": [
    "The following libraries and modules are required for the correct execution of the code in this project:"
   ]
  },
  {
   "cell_type": "code",
   "execution_count": 29,
   "metadata": {},
   "outputs": [],
   "source": [
    "import dask.dataframe as dd\n",
    "import lar_schema as ls\n",
    "import pandas as pd\n",
    "import numpy as np"
   ]
  },
  {
   "attachments": {},
   "cell_type": "markdown",
   "metadata": {},
   "source": [
    "### Selecting a Random Sample"
   ]
  },
  {
   "attachments": {},
   "cell_type": "markdown",
   "metadata": {},
   "source": [
    "In this step of the data preparation, I will use the [Dask DataFrame](https://docs.dask.org/en/stable/dataframe.html) module to read the Loan Application Register file and select a random sample to work with it in the following sections."
   ]
  },
  {
   "cell_type": "code",
   "execution_count": 3,
   "metadata": {},
   "outputs": [],
   "source": [
    "# Path to the LAR .txt file\n",
    "lar_file_path = \"./data/2022_combined_mlar_header.txt\"\n",
    "\n",
    "# List of values considered as missing values\n",
    "missing_vals = [\"Exempt\", \"NA\", \"N/A\", \"#NA\", None, \"1111\", \"8888\", \"9999\"]\n",
    "\n",
    "# Read the LAR file into a dask dataframe\n",
    "ddf = dd.read_csv(lar_file_path, sep=\"|\", dtype=ls.lar_dask_dtypes, na_values=missing_vals)\n",
    "\n",
    "# Select a random sample, reset and drop the previous index, and compute the results\n",
    "lar = ddf.sample(frac=0.015).reset_index(drop=True).compute()"
   ]
  },
  {
   "attachments": {},
   "cell_type": "markdown",
   "metadata": {},
   "source": [
    "### Filtering Out Missing Data"
   ]
  },
  {
   "attachments": {},
   "cell_type": "markdown",
   "metadata": {},
   "source": [
    "In this section I will remove columns with missing values to have a better consistency in the data."
   ]
  },
  {
   "cell_type": "code",
   "execution_count": 4,
   "metadata": {},
   "outputs": [],
   "source": [
    "# Store number of rows and columns from DataFrame shape\n",
    "num_rows, num_cols = lar.shape\n",
    "\n",
    "# Drop rows that are all missing values, modify the original dataframe\n",
    "lar.dropna(how=\"all\", inplace=True)\n",
    "\n",
    "# Drop columns with > 90% of missing values, modify the original dataframe\n",
    "lar.dropna(thresh=num_rows*0.1, axis=1, inplace=True)\n",
    "\n",
    "# Reset and drop previous index, modify the original dataframe\n",
    "lar.reset_index(drop=True, inplace=True)"
   ]
  },
  {
   "attachments": {},
   "cell_type": "markdown",
   "metadata": {},
   "source": [
    "### Replacing Values"
   ]
  },
  {
   "attachments": {},
   "cell_type": "markdown",
   "metadata": {},
   "source": [
    "Some qualitative variables of the Loan Application Register have integers as values, as can be seen below:"
   ]
  },
  {
   "cell_type": "code",
   "execution_count": 11,
   "metadata": {},
   "outputs": [
    {
     "data": {
      "text/html": [
       "<div>\n",
       "<style scoped>\n",
       "    .dataframe tbody tr th:only-of-type {\n",
       "        vertical-align: middle;\n",
       "    }\n",
       "\n",
       "    .dataframe tbody tr th {\n",
       "        vertical-align: top;\n",
       "    }\n",
       "\n",
       "    .dataframe thead th {\n",
       "        text-align: right;\n",
       "    }\n",
       "</style>\n",
       "<table border=\"1\" class=\"dataframe\">\n",
       "  <thead>\n",
       "    <tr style=\"text-align: right;\">\n",
       "      <th></th>\n",
       "      <th>loan_type</th>\n",
       "      <th>action_taken</th>\n",
       "      <th>purchaser_type</th>\n",
       "    </tr>\n",
       "  </thead>\n",
       "  <tbody>\n",
       "    <tr>\n",
       "      <th>0</th>\n",
       "      <td>Veterans Affairs</td>\n",
       "      <td>Loan originated</td>\n",
       "      <td>Ginnie Mae</td>\n",
       "    </tr>\n",
       "    <tr>\n",
       "      <th>1</th>\n",
       "      <td>Conventional</td>\n",
       "      <td>Application withdrawn by applicant</td>\n",
       "      <td>Not applicable</td>\n",
       "    </tr>\n",
       "    <tr>\n",
       "      <th>2</th>\n",
       "      <td>Veterans Affairs</td>\n",
       "      <td>Application denied</td>\n",
       "      <td>Not applicable</td>\n",
       "    </tr>\n",
       "    <tr>\n",
       "      <th>3</th>\n",
       "      <td>Conventional</td>\n",
       "      <td>Application denied</td>\n",
       "      <td>Not applicable</td>\n",
       "    </tr>\n",
       "    <tr>\n",
       "      <th>4</th>\n",
       "      <td>Federal Housing Administration</td>\n",
       "      <td>Loan originated</td>\n",
       "      <td>Ginnie Mae</td>\n",
       "    </tr>\n",
       "  </tbody>\n",
       "</table>\n",
       "</div>"
      ],
      "text/plain": [
       "                        loan_type                        action_taken  \\\n",
       "0                Veterans Affairs                     Loan originated   \n",
       "1                    Conventional  Application withdrawn by applicant   \n",
       "2                Veterans Affairs                  Application denied   \n",
       "3                    Conventional                  Application denied   \n",
       "4  Federal Housing Administration                     Loan originated   \n",
       "\n",
       "   purchaser_type  \n",
       "0      Ginnie Mae  \n",
       "1  Not applicable  \n",
       "2  Not applicable  \n",
       "3  Not applicable  \n",
       "4      Ginnie Mae  "
      ]
     },
     "execution_count": 11,
     "metadata": {},
     "output_type": "execute_result"
    }
   ],
   "source": [
    "lar[[\"loan_type\",\"action_taken\",\"purchaser_type\"]].head(5)"
   ]
  },
  {
   "attachments": {},
   "cell_type": "markdown",
   "metadata": {},
   "source": [
    "The `assign_labels` function will help on having descriptive values for the qualitative columns:"
   ]
  },
  {
   "cell_type": "code",
   "execution_count": 12,
   "metadata": {},
   "outputs": [],
   "source": [
    "def assign_labels(dict_mapper: dict, data_frame: pd.DataFrame):\n",
    "    \"\"\"Assigns labels to the given pandas DataFrame columns \n",
    "    based on a dictionary that maps values to labels.\"\"\"\n",
    "    cols = [col for col in dict_mapper.keys() if col in data_frame.columns]\n",
    "    for col in cols:\n",
    "        data_frame[col] = data_frame[col].map(dict_mapper[col])"
   ]
  },
  {
   "cell_type": "code",
   "execution_count": 8,
   "metadata": {},
   "outputs": [],
   "source": [
    "# Assign labels to qualitative columns\n",
    "assign_labels(ls.labels_to_values, lar)"
   ]
  },
  {
   "cell_type": "code",
   "execution_count": 9,
   "metadata": {},
   "outputs": [
    {
     "data": {
      "text/html": [
       "<div>\n",
       "<style scoped>\n",
       "    .dataframe tbody tr th:only-of-type {\n",
       "        vertical-align: middle;\n",
       "    }\n",
       "\n",
       "    .dataframe tbody tr th {\n",
       "        vertical-align: top;\n",
       "    }\n",
       "\n",
       "    .dataframe thead th {\n",
       "        text-align: right;\n",
       "    }\n",
       "</style>\n",
       "<table border=\"1\" class=\"dataframe\">\n",
       "  <thead>\n",
       "    <tr style=\"text-align: right;\">\n",
       "      <th></th>\n",
       "      <th>activity_year</th>\n",
       "      <th>lei</th>\n",
       "      <th>loan_type</th>\n",
       "      <th>loan_purpose</th>\n",
       "      <th>preapproval</th>\n",
       "      <th>construction_method</th>\n",
       "      <th>occupancy_type</th>\n",
       "      <th>loan_amount</th>\n",
       "      <th>action_taken</th>\n",
       "      <th>state_code</th>\n",
       "      <th>...</th>\n",
       "      <th>property_value</th>\n",
       "      <th>manufactured_home_secured_property_type</th>\n",
       "      <th>manufactured_home_land_property_interest</th>\n",
       "      <th>total_units</th>\n",
       "      <th>submission_of_application</th>\n",
       "      <th>initially_payable_to_institution</th>\n",
       "      <th>aus_1</th>\n",
       "      <th>reverse_mortgage</th>\n",
       "      <th>open_end_line_of_credit</th>\n",
       "      <th>business_or_commercial_purpose</th>\n",
       "    </tr>\n",
       "  </thead>\n",
       "  <tbody>\n",
       "    <tr>\n",
       "      <th>0</th>\n",
       "      <td>2022.0</td>\n",
       "      <td>549300DD5QQUHO6PCH70</td>\n",
       "      <td>Veterans Affairs</td>\n",
       "      <td>Home purchase</td>\n",
       "      <td>Preapproval not requested</td>\n",
       "      <td>Site-built</td>\n",
       "      <td>Principal residence</td>\n",
       "      <td>615000.0</td>\n",
       "      <td>Loan originated</td>\n",
       "      <td>SC</td>\n",
       "      <td>...</td>\n",
       "      <td>615000.0</td>\n",
       "      <td>Not applicable</td>\n",
       "      <td>Not applicable</td>\n",
       "      <td>1</td>\n",
       "      <td>Submitted directly to your institution</td>\n",
       "      <td>Initially payable to your institution</td>\n",
       "      <td>Desktop Underwriter (DU)</td>\n",
       "      <td>Not a reverse mortgage</td>\n",
       "      <td>Not an open-end line of credit</td>\n",
       "      <td>Not primarily for a business or commercial pur...</td>\n",
       "    </tr>\n",
       "    <tr>\n",
       "      <th>1</th>\n",
       "      <td>2022.0</td>\n",
       "      <td>549300LBCBNR1OT00651</td>\n",
       "      <td>Conventional</td>\n",
       "      <td>Cash-out refinancing</td>\n",
       "      <td>Preapproval not requested</td>\n",
       "      <td>Site-built</td>\n",
       "      <td>Principal residence</td>\n",
       "      <td>145000.0</td>\n",
       "      <td>Application withdrawn by applicant</td>\n",
       "      <td>MI</td>\n",
       "      <td>...</td>\n",
       "      <td>NaN</td>\n",
       "      <td>Not applicable</td>\n",
       "      <td>Not applicable</td>\n",
       "      <td>1</td>\n",
       "      <td>Submitted directly to your institution</td>\n",
       "      <td>Initially payable to your institution</td>\n",
       "      <td>Desktop Underwriter (DU)</td>\n",
       "      <td>Not a reverse mortgage</td>\n",
       "      <td>Not an open-end line of credit</td>\n",
       "      <td>Not primarily for a business or commercial pur...</td>\n",
       "    </tr>\n",
       "    <tr>\n",
       "      <th>2</th>\n",
       "      <td>2022.0</td>\n",
       "      <td>549300DD5QQUHO6PCH70</td>\n",
       "      <td>Veterans Affairs</td>\n",
       "      <td>Home purchase</td>\n",
       "      <td>Preapproval not requested</td>\n",
       "      <td>Manufactured Home</td>\n",
       "      <td>Principal residence</td>\n",
       "      <td>245000.0</td>\n",
       "      <td>Application denied</td>\n",
       "      <td>SC</td>\n",
       "      <td>...</td>\n",
       "      <td>245000.0</td>\n",
       "      <td>Manufactured home and land</td>\n",
       "      <td>Direct ownership</td>\n",
       "      <td>1</td>\n",
       "      <td>Submitted directly to your institution</td>\n",
       "      <td>Initially payable to your institution</td>\n",
       "      <td>Desktop Underwriter (DU)</td>\n",
       "      <td>Not a reverse mortgage</td>\n",
       "      <td>Not an open-end line of credit</td>\n",
       "      <td>Not primarily for a business or commercial pur...</td>\n",
       "    </tr>\n",
       "  </tbody>\n",
       "</table>\n",
       "<p>3 rows × 59 columns</p>\n",
       "</div>"
      ],
      "text/plain": [
       "   activity_year                   lei         loan_type  \\\n",
       "0         2022.0  549300DD5QQUHO6PCH70  Veterans Affairs   \n",
       "1         2022.0  549300LBCBNR1OT00651      Conventional   \n",
       "2         2022.0  549300DD5QQUHO6PCH70  Veterans Affairs   \n",
       "\n",
       "           loan_purpose                preapproval construction_method  \\\n",
       "0         Home purchase  Preapproval not requested          Site-built   \n",
       "1  Cash-out refinancing  Preapproval not requested          Site-built   \n",
       "2         Home purchase  Preapproval not requested   Manufactured Home   \n",
       "\n",
       "        occupancy_type  loan_amount                        action_taken  \\\n",
       "0  Principal residence     615000.0                     Loan originated   \n",
       "1  Principal residence     145000.0  Application withdrawn by applicant   \n",
       "2  Principal residence     245000.0                  Application denied   \n",
       "\n",
       "  state_code  ... property_value manufactured_home_secured_property_type  \\\n",
       "0         SC  ...       615000.0                          Not applicable   \n",
       "1         MI  ...            NaN                          Not applicable   \n",
       "2         SC  ...       245000.0              Manufactured home and land   \n",
       "\n",
       "  manufactured_home_land_property_interest total_units  \\\n",
       "0                           Not applicable           1   \n",
       "1                           Not applicable           1   \n",
       "2                         Direct ownership           1   \n",
       "\n",
       "                submission_of_application  \\\n",
       "0  Submitted directly to your institution   \n",
       "1  Submitted directly to your institution   \n",
       "2  Submitted directly to your institution   \n",
       "\n",
       "        initially_payable_to_institution                     aus_1  \\\n",
       "0  Initially payable to your institution  Desktop Underwriter (DU)   \n",
       "1  Initially payable to your institution  Desktop Underwriter (DU)   \n",
       "2  Initially payable to your institution  Desktop Underwriter (DU)   \n",
       "\n",
       "         reverse_mortgage         open_end_line_of_credit  \\\n",
       "0  Not a reverse mortgage  Not an open-end line of credit   \n",
       "1  Not a reverse mortgage  Not an open-end line of credit   \n",
       "2  Not a reverse mortgage  Not an open-end line of credit   \n",
       "\n",
       "                      business_or_commercial_purpose  \n",
       "0  Not primarily for a business or commercial pur...  \n",
       "1  Not primarily for a business or commercial pur...  \n",
       "2  Not primarily for a business or commercial pur...  \n",
       "\n",
       "[3 rows x 59 columns]"
      ]
     },
     "execution_count": 9,
     "metadata": {},
     "output_type": "execute_result"
    }
   ],
   "source": [
    "lar[[\"loan_type\",\"action_taken\",\"purchaser_type\"]].head(5)"
   ]
  },
  {
   "attachments": {},
   "cell_type": "markdown",
   "metadata": {},
   "source": [
    "Columns such as `activity_year` and `county_code` contain missing values, and therefore cannot be converted to an integer data type. \n",
    "\n",
    "To avoid this error while changing the data type, I will fill missing values with zeros:"
   ]
  },
  {
   "cell_type": "code",
   "execution_count": null,
   "metadata": {},
   "outputs": [],
   "source": [
    "lar[\"county_code\"] = lar[\"county_code\"].fillna(0)"
   ]
  },
  {
   "attachments": {},
   "cell_type": "markdown",
   "metadata": {},
   "source": [
    "### Merging External Data"
   ]
  },
  {
   "attachments": {},
   "cell_type": "markdown",
   "metadata": {},
   "source": [
    "#### Legal Entity Identifiers"
   ]
  },
  {
   "attachments": {},
   "cell_type": "markdown",
   "metadata": {},
   "source": [
    "The [LEI Search](https://search.gleif.org/#/search/) is a tool developed by the [Global Legal Entity Identifier Foundation](https://www.gleif.org/en) (GLEIF) to access and search the complete [Legal Entity Identifier](https://www.gleif.org/en/about-lei/introducing-the-legal-entity-identifier-lei) data pool for free. \n",
    "\n",
    "It contains legal entity reference data on entities participating in financial transactions all over the world. \n",
    "\n",
    "More details on the LEI dataset fields can be found [here](https://www.gleif.org/en/about-lei/common-data-file-format/current-versions/level-1-data-lei-cdf-3-1-format)."
   ]
  },
  {
   "cell_type": "code",
   "execution_count": 25,
   "metadata": {},
   "outputs": [],
   "source": [
    "# Dictionary to map original column names to new column names\n",
    "gleif_cols = {\"LEI\":\"lei\", \"Entity.LegalName\":\"institution_name\", \"Entity.HeadquartersAddress.City\":\"institution_city\", \"Entity.HeadquartersAddress.Country\":\"institution_country\", \"Entity.HeadquartersAddress.PostalCode\":\"institution_postal_code\", \"Entity.EntityCreationDate\":\"institution_years\"}\n",
    "\n",
    "# Read Legal Entity Identifier (LEI) data pool into a dask dataframe\n",
    "gleif = dd.read_csv(\"./data/gleif-data-pool.csv\", usecols=gleif_cols.keys(), dtype={\"Entity.HeadquartersAddress.PostalCode\":\"object\"})\n",
    "\n",
    "# Subset data for LEIs matching the ones in LAR\n",
    "gleif = gleif[gleif[\"LEI\"].isin(lar[\"lei\"].unique())].reset_index(drop=True)\n",
    "\n",
    "# Rename columns and compute the results\n",
    "gleif = gleif.rename(columns=gleif_cols).compute()"
   ]
  },
  {
   "attachments": {},
   "cell_type": "markdown",
   "metadata": {},
   "source": [
    "The `institution_postal_code` column has mixed data types due to typos in some records of the Legal Entity Identifier data pool. \n",
    "\n",
    "To fix this, the below code cleans the values, allowing us to convert postal codes to integer types."
   ]
  },
  {
   "cell_type": "code",
   "execution_count": 27,
   "metadata": {},
   "outputs": [],
   "source": [
    "# Applies a lambda function to slice postal codes after \"-\" character\n",
    "gleif[\"institution_postal_code\"] = gleif[\"institution_postal_code\"].apply(lambda x: x[x.find(\"-\") + 1:].strip() if \"-\" in x else x)"
   ]
  },
  {
   "attachments": {},
   "cell_type": "markdown",
   "metadata": {},
   "source": [
    "The entity creation date of each financial institution will be used to calculate the number of years since creation with the following code:"
   ]
  },
  {
   "cell_type": "code",
   "execution_count": 30,
   "metadata": {},
   "outputs": [],
   "source": [
    "# Slice creation date string without time zone and replace \"nan\" values with NumPy NaNs\n",
    "gleif[\"institution_years\"] = gleif[\"institution_years\"].str[:10]\n",
    "gleif[\"institution_years\"] = gleif[\"institution_years\"].replace(\"nan\",np.nan)\n",
    "\n",
    "# Fix a typo in an entity creation date, convert column to datetime\n",
    "gleif.loc[gleif[\"institution_years\"] == \"1493-01-01\", \"institution_years\"] = \"1943-01-01\"\n",
    "gleif[\"institution_years\"] = pd.to_datetime(gleif[\"institution_years\"])\n",
    "\n",
    "# Calculate the difference of each date from the 2021 year\n",
    "gleif[\"institution_years\"] = (pd.Timestamp(\"2021\") - gleif[\"institution_years\"]).astype(\"timedelta64[Y]\")"
   ]
  },
  {
   "attachments": {},
   "cell_type": "markdown",
   "metadata": {},
   "source": [
    "Now that the `gleif` DataFrame has been cleaned, proper data types can be assigned:"
   ]
  },
  {
   "cell_type": "code",
   "execution_count": 31,
   "metadata": {},
   "outputs": [],
   "source": [
    "gleif_dtypes = {\"lei\":\"category\", \"institution_name\":\"str\", \"institution_city\": \"category\", \"institution_country\": \"category\", \"institution_postal_code\": \"int32\", \"institution_years\": \"float32\"}\n",
    "\n",
    "# Assign new data types to each column\n",
    "for col, dtype in gleif_dtypes.items():\n",
    "    gleif[col] = gleif[col].astype(dtype)"
   ]
  },
  {
   "cell_type": "code",
   "execution_count": 33,
   "metadata": {},
   "outputs": [],
   "source": [
    "# Merge GLEIF data with LAR data\n",
    "lar = lar.merge(right=gleif, how=\"left\")"
   ]
  },
  {
   "attachments": {},
   "cell_type": "markdown",
   "metadata": {},
   "source": [
    "## Resources\n",
    "- [2022 HMDA Documentation](https://ffiec.cfpb.gov/documentation/2022)\n",
    "- [2022 Modified LAR Schema](https://ffiec.cfpb.gov/documentation/2022/modified-lar-schema/)\n",
    "- [Using Modified LAR Data](https://github.com/cfpb/hmda-platform/blob/master/docs/UsingModifiedLar.md)\n",
    "- [2022 HMDA Data on Mortgage Lending Now Available](https://www.consumerfinance.gov/about-us/newsroom/2022-hmda-data-on-mortgage-lending-now-available/)"
   ]
  }
 ],
 "metadata": {
  "kernelspec": {
   "display_name": "hum-dah-eda",
   "language": "python",
   "name": "python3"
  },
  "language_info": {
   "codemirror_mode": {
    "name": "ipython",
    "version": 3
   },
   "file_extension": ".py",
   "mimetype": "text/x-python",
   "name": "python",
   "nbconvert_exporter": "python",
   "pygments_lexer": "ipython3",
   "version": "3.10.9"
  },
  "orig_nbformat": 4
 },
 "nbformat": 4,
 "nbformat_minor": 2
}
