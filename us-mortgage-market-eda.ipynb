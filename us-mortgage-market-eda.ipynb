{
 "cells": [
  {
   "attachments": {},
   "cell_type": "markdown",
   "metadata": {},
   "source": [
    "# US Mortgage Market Analysis"
   ]
  },
  {
   "attachments": {},
   "cell_type": "markdown",
   "metadata": {},
   "source": [
    "## Importing Libraries"
   ]
  },
  {
   "cell_type": "code",
   "execution_count": 14,
   "metadata": {},
   "outputs": [],
   "source": [
    "import numpy as np\n",
    "import pandas as pd"
   ]
  },
  {
   "attachments": {},
   "cell_type": "markdown",
   "metadata": {},
   "source": [
    "## Loading Data"
   ]
  },
  {
   "cell_type": "code",
   "execution_count": 120,
   "metadata": {},
   "outputs": [],
   "source": [
    "mortgage_df = pd.read_csv(\"./datasets/year_2021.csv\", nrows=10000)"
   ]
  },
  {
   "cell_type": "code",
   "execution_count": 121,
   "metadata": {},
   "outputs": [],
   "source": [
    "mortgage_df = mortgage_df.sample(n=1000)"
   ]
  },
  {
   "attachments": {},
   "cell_type": "markdown",
   "metadata": {},
   "source": [
    "## Filtering Missing Data"
   ]
  },
  {
   "cell_type": "code",
   "execution_count": 123,
   "metadata": {},
   "outputs": [],
   "source": [
    "num_rows, num_cols = mortgage_df.shape"
   ]
  },
  {
   "cell_type": "code",
   "execution_count": 124,
   "metadata": {},
   "outputs": [],
   "source": [
    "# Drops rows that are all missing values\n",
    "mortgage_df.dropna(how=\"all\", inplace=True)\n",
    "\n",
    "# Drops columns that have more than 95% of its values as NAs\n",
    "mortgage_df.dropna(thresh=num_rows*0.05, axis=1, inplace=True)\n",
    "\n",
    "# Drops columns that are all missing values\n",
    "#mortgage_df.dropna(how=\"all\", axis=1, inplace=True)\n",
    "\n",
    "# Reset index values\n",
    "mortgage_df.reset_index(drop=True, inplace=True)"
   ]
  },
  {
   "cell_type": "code",
   "execution_count": 125,
   "metadata": {},
   "outputs": [],
   "source": [
    "# Freequency table of missing values per column\n",
    "na_counts = mortgage_df.isna().sum().sort_values(ascending=False)\n",
    "\n",
    "# Filters out columns with non-missing values\n",
    "na_counts = na_counts[na_counts > 0]\n",
    "\n",
    "# Convert to relative frequency table\n",
    "na_freq_tab = na_counts / num_rows"
   ]
  },
  {
   "cell_type": "code",
   "execution_count": 126,
   "metadata": {},
   "outputs": [
    {
     "data": {
      "text/plain": [
       "applicant_ethnicity-2        0.903\n",
       "lender_credits               0.831\n",
       "discount_points              0.810\n",
       "co-applicant_age_above_62    0.597\n",
       "rate_spread                  0.396\n",
       "debt_to_income_ratio         0.320\n",
       "loan_to_value_ratio          0.320\n",
       "origination_charges          0.235\n",
       "total_loan_costs             0.235\n",
       "interest_rate                0.187\n",
       "property_value               0.154\n",
       "dtype: float64"
      ]
     },
     "execution_count": 126,
     "metadata": {},
     "output_type": "execute_result"
    }
   ],
   "source": [
    "na_freq_tab"
   ]
  },
  {
   "cell_type": "code",
   "execution_count": 129,
   "metadata": {},
   "outputs": [
    {
     "name": "stdout",
     "output_type": "stream",
     "text": [
      "<class 'pandas.core.frame.DataFrame'>\n",
      "RangeIndex: 1000 entries, 0 to 999\n",
      "Data columns (total 73 columns):\n",
      " #   Column                                    Non-Null Count  Dtype  \n",
      "---  ------                                    --------------  -----  \n",
      " 0   activity_year                             1000 non-null   int64  \n",
      " 1   lei                                       1000 non-null   object \n",
      " 2   derived_msa-md                            1000 non-null   int64  \n",
      " 3   state_code                                1000 non-null   object \n",
      " 4   county_code                               1000 non-null   int64  \n",
      " 5   census_tract                              1000 non-null   int64  \n",
      " 6   conforming_loan_limit                     1000 non-null   object \n",
      " 7   derived_loan_product_type                 1000 non-null   object \n",
      " 8   derived_dwelling_category                 1000 non-null   object \n",
      " 9   derived_ethnicity                         1000 non-null   object \n",
      " 10  derived_race                              1000 non-null   object \n",
      " 11  derived_sex                               1000 non-null   object \n",
      " 12  action_taken                              1000 non-null   int64  \n",
      " 13  purchaser_type                            1000 non-null   int64  \n",
      " 14  preapproval                               1000 non-null   int64  \n",
      " 15  loan_type                                 1000 non-null   int64  \n",
      " 16  loan_purpose                              1000 non-null   int64  \n",
      " 17  lien_status                               1000 non-null   int64  \n",
      " 18  reverse_mortgage                          1000 non-null   int64  \n",
      " 19  open-end_line_of_credit                   1000 non-null   int64  \n",
      " 20  business_or_commercial_purpose            1000 non-null   int64  \n",
      " 21  loan_amount                               1000 non-null   float64\n",
      " 22  loan_to_value_ratio                       680 non-null    float64\n",
      " 23  interest_rate                             813 non-null    float64\n",
      " 24  rate_spread                               604 non-null    float64\n",
      " 25  hoepa_status                              1000 non-null   int64  \n",
      " 26  total_loan_costs                          765 non-null    float64\n",
      " 27  origination_charges                       765 non-null    float64\n",
      " 28  discount_points                           190 non-null    float64\n",
      " 29  lender_credits                            169 non-null    float64\n",
      " 30  loan_term                                 1000 non-null   int64  \n",
      " 31  negative_amortization                     1000 non-null   int64  \n",
      " 32  interest_only_payment                     1000 non-null   int64  \n",
      " 33  balloon_payment                           1000 non-null   int64  \n",
      " 34  other_nonamortizing_features              1000 non-null   int64  \n",
      " 35  property_value                            846 non-null    float64\n",
      " 36  construction_method                       1000 non-null   int64  \n",
      " 37  occupancy_type                            1000 non-null   int64  \n",
      " 38  manufactured_home_secured_property_type   1000 non-null   int64  \n",
      " 39  manufactured_home_land_property_interest  1000 non-null   int64  \n",
      " 40  total_units                               1000 non-null   int64  \n",
      " 41  income                                    1000 non-null   float64\n",
      " 42  debt_to_income_ratio                      680 non-null    object \n",
      " 43  applicant_credit_score_type               1000 non-null   int64  \n",
      " 44  co-applicant_credit_score_type            1000 non-null   int64  \n",
      " 45  applicant_ethnicity-1                     1000 non-null   int64  \n",
      " 46  applicant_ethnicity-2                     97 non-null     float64\n",
      " 47  co-applicant_ethnicity-1                  1000 non-null   int64  \n",
      " 48  applicant_ethnicity_observed              1000 non-null   int64  \n",
      " 49  co-applicant_ethnicity_observed           1000 non-null   int64  \n",
      " 50  applicant_race-1                          1000 non-null   int64  \n",
      " 51  co-applicant_race-1                       1000 non-null   int64  \n",
      " 52  applicant_race_observed                   1000 non-null   int64  \n",
      " 53  co-applicant_race_observed                1000 non-null   int64  \n",
      " 54  applicant_sex                             1000 non-null   int64  \n",
      " 55  co-applicant_sex                          1000 non-null   int64  \n",
      " 56  applicant_sex_observed                    1000 non-null   int64  \n",
      " 57  co-applicant_sex_observed                 1000 non-null   int64  \n",
      " 58  applicant_age                             1000 non-null   object \n",
      " 59  co-applicant_age                          1000 non-null   object \n",
      " 60  applicant_age_above_62                    1000 non-null   object \n",
      " 61  co-applicant_age_above_62                 403 non-null    object \n",
      " 62  submission_of_application                 1000 non-null   int64  \n",
      " 63  initially_payable_to_institution          1000 non-null   int64  \n",
      " 64  aus-1                                     1000 non-null   int64  \n",
      " 65  denial_reason-1                           1000 non-null   int64  \n",
      " 66  tract_population                          1000 non-null   int64  \n",
      " 67  tract_minority_population_percent         1000 non-null   float64\n",
      " 68  ffiec_msa_md_median_family_income         1000 non-null   int64  \n",
      " 69  tract_to_msa_income_percentage            1000 non-null   int64  \n",
      " 70  tract_owner_occupied_units                1000 non-null   int64  \n",
      " 71  tract_one_to_four_family_homes            1000 non-null   int64  \n",
      " 72  tract_median_age_of_housing_units         1000 non-null   int64  \n",
      "dtypes: float64(12), int64(48), object(13)\n",
      "memory usage: 570.4+ KB\n"
     ]
    }
   ],
   "source": [
    "mortgage_df.info()"
   ]
  },
  {
   "cell_type": "code",
   "execution_count": 130,
   "metadata": {},
   "outputs": [
    {
     "data": {
      "text/plain": [
       "int64      48\n",
       "object     13\n",
       "float64    12\n",
       "dtype: int64"
      ]
     },
     "execution_count": 130,
     "metadata": {},
     "output_type": "execute_result"
    }
   ],
   "source": [
    "# Frequency table of column data types\n",
    "mortgage_df.dtypes.value_counts()"
   ]
  }
 ],
 "metadata": {
  "kernelspec": {
   "display_name": "hmda-eda",
   "language": "python",
   "name": "python3"
  },
  "language_info": {
   "codemirror_mode": {
    "name": "ipython",
    "version": 3
   },
   "file_extension": ".py",
   "mimetype": "text/x-python",
   "name": "python",
   "nbconvert_exporter": "python",
   "pygments_lexer": "ipython3",
   "version": "3.10.9"
  },
  "orig_nbformat": 4,
  "vscode": {
   "interpreter": {
    "hash": "2ed629b768127454d4478df7c727e1ce7276cc8463db99dc36cffc18e86e67b7"
   }
  }
 },
 "nbformat": 4,
 "nbformat_minor": 2
}
