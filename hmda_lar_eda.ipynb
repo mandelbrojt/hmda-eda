{
 "cells": [
  {
   "attachments": {},
   "cell_type": "markdown",
   "metadata": {},
   "source": [
    "# Mortgage Lending Analysis"
   ]
  },
  {
   "attachments": {},
   "cell_type": "markdown",
   "metadata": {},
   "source": [
    "<img\n",
    "    style=\"width:800px; height:300px; object-fit:cover;\"\n",
    "    src=\"https://free4kwallpapers.com/uploads/originals/2018/06/09/itap-of-some-more-beach-houses-wallpaper.jpg\"\n",
    "/>"
   ]
  },
  {
   "attachments": {},
   "cell_type": "markdown",
   "metadata": {},
   "source": [
    "## Introduction"
   ]
  },
  {
   "attachments": {},
   "cell_type": "markdown",
   "metadata": {},
   "source": [
    "This project will conduct an **exploratory data analysis** of the modified Home Mortgage Disclosure Act (HMDA) [2022 Loan Application Register](https://ffiec.cfpb.gov/documentation/2022/publications/modified-lar/) (LAR) data. \n",
    "\n",
    "The data contains **loan-level information filed by financial institutions** and modified by the [Consumer Financial Protection Bureau](https://www.consumerfinance.gov/) (CFPB) to protect the privacy of borrowers and lenders.\n",
    "\n",
    "The HMDA is a United States federal law that requires financial institutions to maintain, report, and publicly disclose loan-level information about **mortgages**.\n",
    "\n",
    "A detailed explanation of the data fields and definitions can be found in the [HMDA Documentation](https://ffiec.cfpb.gov/documentation/2022/lar-data-fields/)."
   ]
  },
  {
   "cell_type": "code",
   "execution_count": 1,
   "metadata": {},
   "outputs": [
    {
     "name": "stdout",
     "output_type": "stream",
     "text": [
      "Size: 3736212304 bytes\n",
      "Lines: 16076740\n"
     ]
    }
   ],
   "source": [
    "# Print the file size in bytes and the number of lines\n",
    "!stat -f \"Size: %z bytes\" ./data/2022_combined_mlar_header.txt && wc -l ./data/2022_combined_mlar_header.txt | awk '{print \"Lines:\", $1}'"
   ]
  },
  {
   "attachments": {},
   "cell_type": "markdown",
   "metadata": {},
   "source": [
    "The file is **3.7 gigabytes** in size **after decompression** and contains approximately **16 million records**.\n",
    "\n",
    "The data can be downloaded directly from [here](https://s3.amazonaws.com/cfpb-hmda-public/prod/dynamic-data/combined-mlar/2022/header/2022_combined_mlar_header.zip) as a `.zip` file."
   ]
  },
  {
   "attachments": {},
   "cell_type": "markdown",
   "metadata": {},
   "source": [
    "> **Note**: For more details on this project, please refer to its [Github repository](https://github.com/mandelbrojt/hum-dah)."
   ]
  },
  {
   "attachments": {},
   "cell_type": "markdown",
   "metadata": {},
   "source": [
    "## Data Wrangling"
   ]
  },
  {
   "attachments": {},
   "cell_type": "markdown",
   "metadata": {},
   "source": [
    "### Importing Libraries and Modules"
   ]
  },
  {
   "attachments": {},
   "cell_type": "markdown",
   "metadata": {},
   "source": [
    "The following libraries and modules are required for the correct execution of the code in this project:"
   ]
  },
  {
   "cell_type": "code",
   "execution_count": 29,
   "metadata": {},
   "outputs": [],
   "source": [
    "import dask.dataframe as dd\n",
    "import lar_schema as ls\n",
    "import pandas as pd\n",
    "import numpy as np\n",
    "import plotly.express as px"
   ]
  },
  {
   "attachments": {},
   "cell_type": "markdown",
   "metadata": {},
   "source": [
    "### Selecting a Random Sample"
   ]
  },
  {
   "attachments": {},
   "cell_type": "markdown",
   "metadata": {},
   "source": [
    "In this step of the data preparation, I will use the [Dask DataFrame](https://docs.dask.org/en/stable/dataframe.html) module to read the Loan Application Register file and select a random sample to work with it in the following sections."
   ]
  },
  {
   "cell_type": "code",
   "execution_count": 3,
   "metadata": {},
   "outputs": [],
   "source": [
    "# Path to the LAR .txt file\n",
    "lar_file_path = \"./data/2022_combined_mlar_header.txt\"\n",
    "\n",
    "# List of values considered as missing values\n",
    "missing_vals = [\"Exempt\", \"NA\", \"N/A\", \"#NA\", None, \"1111\", \"8888\", \"9999\"]\n",
    "\n",
    "# Read the LAR file into a dask dataframe\n",
    "ddf = dd.read_csv(lar_file_path, sep=\"|\", dtype=ls.lar_dask_dtypes, na_values=missing_vals)\n",
    "\n",
    "# Select a random sample, reset and drop the previous index, and compute the results\n",
    "lar = ddf.sample(frac=0.015).reset_index(drop=True).compute()"
   ]
  },
  {
   "attachments": {},
   "cell_type": "markdown",
   "metadata": {},
   "source": [
    "### Filtering Out Missing Data"
   ]
  },
  {
   "attachments": {},
   "cell_type": "markdown",
   "metadata": {},
   "source": [
    "In this section I will remove columns with missing values to have a better consistency in the data."
   ]
  },
  {
   "cell_type": "code",
   "execution_count": 4,
   "metadata": {},
   "outputs": [],
   "source": [
    "# Store number of rows and columns from DataFrame shape\n",
    "num_rows, num_cols = lar.shape\n",
    "\n",
    "# Drop rows that are all missing values, modify the original dataframe\n",
    "lar.dropna(how=\"all\", inplace=True)\n",
    "\n",
    "# Drop columns with > 90% of missing values, modify the original dataframe\n",
    "lar.dropna(thresh=num_rows*0.1, axis=1, inplace=True)\n",
    "\n",
    "# Reset and drop previous index, modify the original dataframe\n",
    "lar.reset_index(drop=True, inplace=True)"
   ]
  },
  {
   "attachments": {},
   "cell_type": "markdown",
   "metadata": {},
   "source": [
    "### Replacing Values"
   ]
  },
  {
   "attachments": {},
   "cell_type": "markdown",
   "metadata": {},
   "source": [
    "Some qualitative variables of the Loan Application Register have integers as values, as can be seen below:"
   ]
  },
  {
   "cell_type": "code",
   "execution_count": 5,
   "metadata": {},
   "outputs": [
    {
     "data": {
      "text/html": [
       "<div>\n",
       "<style scoped>\n",
       "    .dataframe tbody tr th:only-of-type {\n",
       "        vertical-align: middle;\n",
       "    }\n",
       "\n",
       "    .dataframe tbody tr th {\n",
       "        vertical-align: top;\n",
       "    }\n",
       "\n",
       "    .dataframe thead th {\n",
       "        text-align: right;\n",
       "    }\n",
       "</style>\n",
       "<table border=\"1\" class=\"dataframe\">\n",
       "  <thead>\n",
       "    <tr style=\"text-align: right;\">\n",
       "      <th></th>\n",
       "      <th>loan_type</th>\n",
       "      <th>action_taken</th>\n",
       "      <th>purchaser_type</th>\n",
       "    </tr>\n",
       "  </thead>\n",
       "  <tbody>\n",
       "    <tr>\n",
       "      <th>0</th>\n",
       "      <td>1</td>\n",
       "      <td>4</td>\n",
       "      <td>0</td>\n",
       "    </tr>\n",
       "    <tr>\n",
       "      <th>1</th>\n",
       "      <td>3</td>\n",
       "      <td>1</td>\n",
       "      <td>2</td>\n",
       "    </tr>\n",
       "    <tr>\n",
       "      <th>2</th>\n",
       "      <td>1</td>\n",
       "      <td>3</td>\n",
       "      <td>0</td>\n",
       "    </tr>\n",
       "    <tr>\n",
       "      <th>3</th>\n",
       "      <td>1</td>\n",
       "      <td>1</td>\n",
       "      <td>1</td>\n",
       "    </tr>\n",
       "    <tr>\n",
       "      <th>4</th>\n",
       "      <td>1</td>\n",
       "      <td>6</td>\n",
       "      <td>1</td>\n",
       "    </tr>\n",
       "  </tbody>\n",
       "</table>\n",
       "</div>"
      ],
      "text/plain": [
       "  loan_type action_taken purchaser_type\n",
       "0         1            4              0\n",
       "1         3            1              2\n",
       "2         1            3              0\n",
       "3         1            1              1\n",
       "4         1            6              1"
      ]
     },
     "execution_count": 5,
     "metadata": {},
     "output_type": "execute_result"
    }
   ],
   "source": [
    "lar[[\"loan_type\",\"action_taken\",\"purchaser_type\"]].head(5)"
   ]
  },
  {
   "attachments": {},
   "cell_type": "markdown",
   "metadata": {},
   "source": [
    "The `assign_labels` function will help on having descriptive values for the qualitative columns:"
   ]
  },
  {
   "cell_type": "code",
   "execution_count": 6,
   "metadata": {},
   "outputs": [],
   "source": [
    "def assign_labels(dict_mapper: dict, data_frame: pd.DataFrame):\n",
    "    \"\"\"Assigns labels to the given pandas DataFrame columns \n",
    "    based on a dictionary that maps values to labels.\"\"\"\n",
    "    cols = [col for col in dict_mapper.keys() if col in data_frame.columns]\n",
    "    for col in cols:\n",
    "        data_frame[col] = data_frame[col].map(dict_mapper[col])"
   ]
  },
  {
   "cell_type": "code",
   "execution_count": 7,
   "metadata": {},
   "outputs": [],
   "source": [
    "# Assign labels to qualitative columns\n",
    "assign_labels(ls.labels_to_values, lar)"
   ]
  },
  {
   "cell_type": "code",
   "execution_count": 8,
   "metadata": {},
   "outputs": [
    {
     "data": {
      "text/html": [
       "<div>\n",
       "<style scoped>\n",
       "    .dataframe tbody tr th:only-of-type {\n",
       "        vertical-align: middle;\n",
       "    }\n",
       "\n",
       "    .dataframe tbody tr th {\n",
       "        vertical-align: top;\n",
       "    }\n",
       "\n",
       "    .dataframe thead th {\n",
       "        text-align: right;\n",
       "    }\n",
       "</style>\n",
       "<table border=\"1\" class=\"dataframe\">\n",
       "  <thead>\n",
       "    <tr style=\"text-align: right;\">\n",
       "      <th></th>\n",
       "      <th>loan_type</th>\n",
       "      <th>action_taken</th>\n",
       "      <th>purchaser_type</th>\n",
       "    </tr>\n",
       "  </thead>\n",
       "  <tbody>\n",
       "    <tr>\n",
       "      <th>0</th>\n",
       "      <td>Conventional</td>\n",
       "      <td>Application withdrawn by applicant</td>\n",
       "      <td>Not applicable</td>\n",
       "    </tr>\n",
       "    <tr>\n",
       "      <th>1</th>\n",
       "      <td>Veterans Affairs</td>\n",
       "      <td>Loan originated</td>\n",
       "      <td>Ginnie Mae</td>\n",
       "    </tr>\n",
       "    <tr>\n",
       "      <th>2</th>\n",
       "      <td>Conventional</td>\n",
       "      <td>Application denied</td>\n",
       "      <td>Not applicable</td>\n",
       "    </tr>\n",
       "    <tr>\n",
       "      <th>3</th>\n",
       "      <td>Conventional</td>\n",
       "      <td>Loan originated</td>\n",
       "      <td>Fannie Mae</td>\n",
       "    </tr>\n",
       "    <tr>\n",
       "      <th>4</th>\n",
       "      <td>Conventional</td>\n",
       "      <td>Purchased loan</td>\n",
       "      <td>Fannie Mae</td>\n",
       "    </tr>\n",
       "  </tbody>\n",
       "</table>\n",
       "</div>"
      ],
      "text/plain": [
       "          loan_type                        action_taken  purchaser_type\n",
       "0      Conventional  Application withdrawn by applicant  Not applicable\n",
       "1  Veterans Affairs                     Loan originated      Ginnie Mae\n",
       "2      Conventional                  Application denied  Not applicable\n",
       "3      Conventional                     Loan originated      Fannie Mae\n",
       "4      Conventional                      Purchased loan      Fannie Mae"
      ]
     },
     "execution_count": 8,
     "metadata": {},
     "output_type": "execute_result"
    }
   ],
   "source": [
    "lar[[\"loan_type\",\"action_taken\",\"purchaser_type\"]].head(5)"
   ]
  },
  {
   "attachments": {},
   "cell_type": "markdown",
   "metadata": {},
   "source": [
    "### Merging External Data"
   ]
  },
  {
   "attachments": {},
   "cell_type": "markdown",
   "metadata": {},
   "source": [
    "#### Legal Entity Identifiers"
   ]
  },
  {
   "attachments": {},
   "cell_type": "markdown",
   "metadata": {},
   "source": [
    "The [LEI Search](https://search.gleif.org/#/search/) is a tool developed by the [Global Legal Entity Identifier Foundation](https://www.gleif.org/en) (GLEIF) to access and search the complete [Legal Entity Identifier](https://www.gleif.org/en/about-lei/introducing-the-legal-entity-identifier-lei) data pool for free. \n",
    "\n",
    "It contains legal entity reference data on entities participating in financial transactions all over the world. \n",
    "\n",
    "More details on the LEI dataset fields can be found [here](https://www.gleif.org/en/about-lei/common-data-file-format/current-versions/level-1-data-lei-cdf-3-1-format)."
   ]
  },
  {
   "cell_type": "code",
   "execution_count": 9,
   "metadata": {},
   "outputs": [],
   "source": [
    "# Dictionary to map original column names to new column names\n",
    "gleif_cols = {\"LEI\":\"lei\", \"Entity.LegalName\":\"institution_name\", \"Entity.HeadquartersAddress.City\":\"institution_city\", \"Entity.HeadquartersAddress.Country\":\"institution_country\", \"Entity.HeadquartersAddress.PostalCode\":\"institution_postal_code\", \"Entity.EntityCreationDate\":\"institution_years\"}\n",
    "\n",
    "# Read Legal Entity Identifier (LEI) data pool into a dask dataframe\n",
    "gleif = dd.read_csv(\"./data/gleif-data-pool.csv\", usecols=gleif_cols.keys(), dtype={\"Entity.HeadquartersAddress.PostalCode\":\"object\"})\n",
    "\n",
    "# Unique LEIs from LAR data\n",
    "unique_leis = lar[\"lei\"].unique()\n",
    "\n",
    "# Subset data for LEIs matching the ones in LAR\n",
    "gleif = gleif.loc[gleif[\"LEI\"].isin(unique_leis)].reset_index(drop=True)\n",
    "\n",
    "# Rename columns and compute the results\n",
    "gleif = gleif.rename(columns=gleif_cols).compute()"
   ]
  },
  {
   "attachments": {},
   "cell_type": "markdown",
   "metadata": {},
   "source": [
    "The `Entity.HeadquartersAddress.PostalCode` column has mixed data types due to typos in some records. To fix this, I defined the `clean_postal_code` function to clean the values."
   ]
  },
  {
   "cell_type": "code",
   "execution_count": 10,
   "metadata": {},
   "outputs": [],
   "source": [
    "# Define a lambda function to clean the postal code values\n",
    "clean_postal_code = lambda code: ''.join(filter(lambda x: x.isdigit() or x == '-', str(code)))\n",
    "\n",
    "# Applies a lambda function to slice postal codes after \"-\" character\n",
    "gleif[\"institution_postal_code\"] = gleif[\"institution_postal_code\"].apply(clean_postal_code)"
   ]
  },
  {
   "attachments": {},
   "cell_type": "markdown",
   "metadata": {},
   "source": [
    "\n",
    "The `Entity.EntityCreationDate` can be used to calculate the number of years since creation of every financial institution. This is done in the below code cell:"
   ]
  },
  {
   "cell_type": "code",
   "execution_count": 11,
   "metadata": {},
   "outputs": [],
   "source": [
    "# Slice creation date string without time zone and replace \"nan\" values with NumPy NaNs\n",
    "gleif[\"institution_years\"] = gleif[\"institution_years\"].str[:10]\n",
    "gleif[\"institution_years\"] = gleif[\"institution_years\"].replace(\"nan\",np.nan)\n",
    "\n",
    "# Fix a typo in an entity creation date, convert column to datetime\n",
    "gleif.loc[gleif[\"institution_years\"] == \"1493-01-01\", \"institution_years\"] = \"1943-01-01\"\n",
    "gleif[\"institution_years\"] = pd.to_datetime(gleif[\"institution_years\"])\n",
    "\n",
    "# Calculate the difference of each date from the 2021 year\n",
    "gleif[\"institution_years\"] = (pd.Timestamp(\"2021\") - gleif[\"institution_years\"]).astype(\"timedelta64[Y]\")"
   ]
  },
  {
   "attachments": {},
   "cell_type": "markdown",
   "metadata": {},
   "source": [
    "Now that the `gleif` DataFrame has been cleaned, proper data types can be assigned:"
   ]
  },
  {
   "cell_type": "code",
   "execution_count": 12,
   "metadata": {},
   "outputs": [],
   "source": [
    "gleif_dtypes = {\"lei\":\"category\", \"institution_name\":\"str\", \"institution_city\": \"category\", \"institution_country\": \"category\", \"institution_postal_code\": \"category\", \"institution_years\": \"float32\"}\n",
    "\n",
    "# Assign new data types to each column\n",
    "for col, dtype in gleif_dtypes.items():\n",
    "    gleif[col] = gleif[col].astype(dtype)"
   ]
  },
  {
   "cell_type": "code",
   "execution_count": 13,
   "metadata": {},
   "outputs": [],
   "source": [
    "# Merge GLEIF data with LAR data\n",
    "lar = lar.merge(right=gleif, how=\"left\")"
   ]
  },
  {
   "attachments": {},
   "cell_type": "markdown",
   "metadata": {},
   "source": [
    "#### State Names"
   ]
  },
  {
   "attachments": {},
   "cell_type": "markdown",
   "metadata": {},
   "source": [
    "To have more descriptive values in the data, I will merge the full name of every state code within the United States by using the [USPS State Abbreviations and FIPS Codes](https://www.bls.gov/respondents/mwr/electronic-data-interchange/appendix-d-usps-state-abbreviations-and-fips-codes.htm) data."
   ]
  },
  {
   "cell_type": "code",
   "execution_count": 14,
   "metadata": {},
   "outputs": [],
   "source": [
    "usps_abbrev_dtypes = {\"state_name\":\"category\", \"state_code\":\"category\"}\n",
    "\n",
    "# Read the USPS State Abbreviations data\n",
    "usps_abbrev = pd.read_csv(\"./data/us_state_codes.csv\", usecols=[\"state_name\",\"state_code\"], dtype=usps_abbrev_dtypes)"
   ]
  },
  {
   "cell_type": "code",
   "execution_count": 15,
   "metadata": {},
   "outputs": [],
   "source": [
    "# Merge USPS State Names data with LAR data\n",
    "lar = lar.merge(right=usps_abbrev, how=\"left\")"
   ]
  },
  {
   "attachments": {},
   "cell_type": "markdown",
   "metadata": {},
   "source": [
    "#### Gazetteer Files"
   ]
  },
  {
   "attachments": {},
   "cell_type": "markdown",
   "metadata": {},
   "source": [
    "The [2021 National Counties Gazetteer](https://www2.census.gov/geo/docs/maps-data/data/gazetteer/2021_Gazetteer/2021_Gaz_counties_national.zip) and [ZIP Code Tabulation Areas](https://www2.census.gov/geo/docs/maps-data/data/gazetteer/2022_Gazetteer/2022_Gaz_zcta_national.zip) data will be used to retrieve latitudes and longitudes by county code and by financial institution postal code, respectively.\n",
    "\n",
    "This data is provided by the [United States Census Bureau](https://www.census.gov/data.html) in the [Gazetteer Files](https://www.census.gov/geographies/reference-files/time-series/geo/gazetteer-files.2021.html) web page."
   ]
  },
  {
   "attachments": {},
   "cell_type": "markdown",
   "metadata": {},
   "source": [
    "> **Note**: Some Gazetteer `.txt` files may have excessive blank spaces in the header names. The following functions will fix this."
   ]
  },
  {
   "cell_type": "code",
   "execution_count": 16,
   "metadata": {},
   "outputs": [],
   "source": [
    "def downcast_numeric(data_frame: pd.DataFrame) -> pd.DataFrame:\n",
    "    \"\"\"Convert 64-bit numeric data types to 32-bit\"\"\"\n",
    "    # Convert all int64 columns to int32\n",
    "    int_cols = data_frame.select_dtypes(include=[\"int64\"]).columns\n",
    "    data_frame[int_cols] = data_frame[int_cols].astype(\"int32\")\n",
    "\n",
    "    # Convert all float64 columns to float32\n",
    "    float_cols = data_frame.select_dtypes(include=[\"float64\"]).columns\n",
    "    data_frame[float_cols] = data_frame[float_cols].astype(\"float32\")\n",
    "\n",
    "    return data_frame\n",
    "\n",
    "def clean_gazetteer(file_path: str, selected_cols: list, data_type: dict) -> pd.DataFrame:\n",
    "    \"\"\"Reads U.S. Gazetteer Files and returns a cleaned DataFrame\"\"\"\n",
    "    # Read Gazetteer .txt file\n",
    "    df = pd.read_csv(file_path, delimiter=\"\\t\", dtype=data_type)\n",
    "    \n",
    "    # Rename columns without blank spaces\n",
    "    df = df.rename(columns={col:col.strip() for col in df.columns})\n",
    "\n",
    "    # Downcast numeric columns to reduce memory usage\n",
    "    df = downcast_numeric(df)\n",
    "\n",
    "    return df[selected_cols]"
   ]
  },
  {
   "cell_type": "code",
   "execution_count": 17,
   "metadata": {},
   "outputs": [],
   "source": [
    "# National Counties Gazetteer\n",
    "gazc_names = {\"GEOID\":\"county_code\", \"NAME\":\"county_name\", \"INTPTLAT\":\"county_lat\", \"INTPTLONG\":\"county_long\"}\n",
    "gaz_counties = clean_gazetteer(\"./data/2021_Gaz_counties_national.txt\", gazc_names.keys(), data_type={\"GEOID\":\"category\"})\n",
    "gaz_counties = gaz_counties.rename(columns=gazc_names)"
   ]
  },
  {
   "cell_type": "code",
   "execution_count": 19,
   "metadata": {},
   "outputs": [],
   "source": [
    "# Merge National Counties Gazetteer data with LAR data\n",
    "lar = lar.merge(right=gaz_counties, how=\"left\")"
   ]
  },
  {
   "cell_type": "code",
   "execution_count": 20,
   "metadata": {},
   "outputs": [],
   "source": [
    "# ZIP Code Tabulation Areas\n",
    "gaz_zips_names = {\"GEOID\":\"institution_postal_code\", \"INTPTLAT\":\"institution_lat\", \"INTPTLONG\":\"institution_long\"}\n",
    "gaz_zips = clean_gazetteer(\"./data/2022_Gaz_zcta_national.txt\", gaz_zips_names.keys(), data_type={\"GEOID\":\"category\"})\n",
    "gaz_zips = gaz_zips.rename(columns=gaz_zips_names)"
   ]
  },
  {
   "cell_type": "code",
   "execution_count": 21,
   "metadata": {},
   "outputs": [],
   "source": [
    "# Merge ZIP Code Tabulation Areas data with LAR data\n",
    "lar = lar.merge(right=gaz_zips, how=\"left\")"
   ]
  },
  {
   "attachments": {},
   "cell_type": "markdown",
   "metadata": {},
   "source": [
    "### Display Options"
   ]
  },
  {
   "attachments": {},
   "cell_type": "markdown",
   "metadata": {},
   "source": [
    "The last step before diving deep into exploratory analysis will be to modify the number of maximum columns and how large floating point numbers are displayed in `pandas`:"
   ]
  },
  {
   "cell_type": "code",
   "execution_count": 23,
   "metadata": {},
   "outputs": [],
   "source": [
    "# Set the maximum number of columns to the total number of columns in the data\n",
    "pd.options.display.max_columns = lar.shape[1]\n",
    "\n",
    "# Set the float format to be represented with commas per thousand and avoid scientific notation\n",
    "pd.options.display.float_format = lambda x: '{:,.2f}'.format(x) if abs(x) < 1000000 else '{:,.0f}'.format(x)"
   ]
  },
  {
   "attachments": {},
   "cell_type": "markdown",
   "metadata": {},
   "source": [
    "## Data Preview"
   ]
  },
  {
   "attachments": {},
   "cell_type": "markdown",
   "metadata": {},
   "source": [
    "The firs step in this section is to understand the frequency of missing values within the LAR data."
   ]
  },
  {
   "cell_type": "code",
   "execution_count": 26,
   "metadata": {},
   "outputs": [],
   "source": [
    "def missing_freq_table(data_frame: pd.DataFrame) -> pd.DataFrame:\n",
    "    \"\"\"Creates a frequency table of missing data for the given pandas DataFrame.\"\"\"\n",
    "    # Freequency table of missing values per column\n",
    "    nas = data_frame.isna().sum().sort_values(ascending=False)\n",
    "\n",
    "    # Filter out columns with non-missing values\n",
    "    nas = nas[nas > 0].to_frame(name=\"counts\")\n",
    "\n",
    "    # Add a relative frequency column\n",
    "    nas[\"proportion\"] = nas[\"counts\"] / len(data_frame)\n",
    "\n",
    "    # Add a percentage column\n",
    "    nas[\"percentage\"] = nas[\"proportion\"] * 100\n",
    "\n",
    "    # Add a data type column\n",
    "    nas[\"data_type\"] = data_frame[nas.index].dtypes.astype(str)\n",
    "\n",
    "    return nas.reset_index().rename(columns={\"index\": \"column_name\"})"
   ]
  },
  {
   "cell_type": "code",
   "execution_count": 28,
   "metadata": {},
   "outputs": [],
   "source": [
    "# Create a frequency table of missing values\n",
    "na_freqs = missing_freq_table(lar)"
   ]
  },
  {
   "cell_type": "code",
   "execution_count": 30,
   "metadata": {},
   "outputs": [
    {
     "data": {
      "application/vnd.plotly.v1+json": {
       "config": {
        "plotlyServerURL": "https://plot.ly"
       },
       "data": [
        {
         "alignmentgroup": "True",
         "hovertemplate": "data_type=float32<br>percentage=%{x}<br>column_name=%{y}<extra></extra>",
         "legendgroup": "float32",
         "marker": {
          "color": "#636efa",
          "pattern": {
           "shape": ""
          }
         },
         "name": "float32",
         "offsetgroup": "float32",
         "orientation": "h",
         "showlegend": true,
         "textposition": "auto",
         "type": "bar",
         "x": [
          83.63272956475583,
          80.71216494161358,
          75.20277667197452,
          53.5035993895966,
          53.02133094479831,
          51.200902335456476,
          36.582321523354565,
          34.699276804670916,
          22.75328423566879,
          11.331027733545646,
          10.721453688959661,
          7.099256900212314,
          7.099256900212314,
          3.545896364118896,
          1.8353569532908702,
          1.8353569532908702
         ],
         "xaxis": "x",
         "y": [
          "lender_credits",
          "intro_rate_period",
          "discount_points",
          "total_loan_costs",
          "origination_charges",
          "rate_spread",
          "interest_rate",
          "combined_loan_to_value_ratio",
          "property_value",
          "income",
          "institution_years",
          "institution_long",
          "institution_lat",
          "loan_term",
          "county_lat",
          "county_long"
         ],
         "yaxis": "y"
        },
        {
         "alignmentgroup": "True",
         "hovertemplate": "data_type=object<br>percentage=%{x}<br>column_name=%{y}<extra></extra>",
         "legendgroup": "object",
         "marker": {
          "color": "#EF553B",
          "pattern": {
           "shape": ""
          }
         },
         "name": "object",
         "offsetgroup": "object",
         "orientation": "h",
         "showlegend": true,
         "textposition": "auto",
         "type": "bar",
         "x": [
          69.32764397558387,
          4.561023752653927,
          3.876807988322718,
          2.5220607749469215,
          1.8353569532908702,
          1.83411292462845,
          1.1424329883227176,
          0.0008293524416135881,
          0.0008293524416135881
         ],
         "xaxis": "x",
         "y": [
          "co_applicant_ethnicity_1",
          "aus_1",
          "applicant_credit_scoring_model",
          "co_applicant_credit_scoring_model",
          "county_name",
          "county_code",
          "state_code",
          "institution_postal_code",
          "institution_name"
         ],
         "yaxis": "y"
        },
        {
         "alignmentgroup": "True",
         "hovertemplate": "data_type=category<br>percentage=%{x}<br>column_name=%{y}<extra></extra>",
         "legendgroup": "category",
         "marker": {
          "color": "#00cc96",
          "pattern": {
           "shape": ""
          }
         },
         "name": "category",
         "offsetgroup": "category",
         "orientation": "h",
         "showlegend": true,
         "textposition": "auto",
         "type": "bar",
         "x": [
          63.22817144373673,
          63.22817144373673,
          34.12412088641189,
          10.36441746284501,
          10.36441746284501,
          2.1065552016985136,
          1.8942409766454351,
          1.8925822717622083,
          1.8925822717622083,
          1.8925822717622083,
          1.8925822717622083,
          1.8921675955414015,
          1.8921675955414015,
          1.8900942144373674,
          1.8888501857749471,
          1.88843550955414,
          1.8830447186836519,
          1.582404458598726,
          1.143677016985138,
          0.04271165074309979,
          0.014928343949044586,
          0.006220143312101911,
          0.0008293524416135881,
          0.0008293524416135881
         ],
         "xaxis": "x",
         "y": [
          "co_applicant_age_above_62",
          "co_applicant_age",
          "debt_to_income_ratio",
          "applicant_age_above_62",
          "applicant_age",
          "census_tract",
          "business_or_commercial_purpose",
          "other_non_amortizing_features",
          "negative_amortization",
          "interest_only_payment",
          "balloon_payment",
          "submission_of_application",
          "initially_payable_to_institution",
          "reverse_mortgage",
          "manufactured_home_land_property_interest",
          "manufactured_home_secured_property_type",
          "open_end_line_of_credit",
          "denial_reason_1",
          "state_name",
          "applicant_ethnicity_1",
          "applicant_race_1",
          "co_applicant_race_1",
          "institution_country",
          "institution_city"
         ],
         "yaxis": "y"
        }
       ],
       "layout": {
        "barmode": "relative",
        "legend": {
         "title": {
          "text": "Data Type"
         },
         "tracegroupgap": 0
        },
        "template": {
         "data": {
          "bar": [
           {
            "error_x": {
             "color": "#2a3f5f"
            },
            "error_y": {
             "color": "#2a3f5f"
            },
            "marker": {
             "line": {
              "color": "#E5ECF6",
              "width": 0.5
             },
             "pattern": {
              "fillmode": "overlay",
              "size": 10,
              "solidity": 0.2
             }
            },
            "type": "bar"
           }
          ],
          "barpolar": [
           {
            "marker": {
             "line": {
              "color": "#E5ECF6",
              "width": 0.5
             },
             "pattern": {
              "fillmode": "overlay",
              "size": 10,
              "solidity": 0.2
             }
            },
            "type": "barpolar"
           }
          ],
          "carpet": [
           {
            "aaxis": {
             "endlinecolor": "#2a3f5f",
             "gridcolor": "white",
             "linecolor": "white",
             "minorgridcolor": "white",
             "startlinecolor": "#2a3f5f"
            },
            "baxis": {
             "endlinecolor": "#2a3f5f",
             "gridcolor": "white",
             "linecolor": "white",
             "minorgridcolor": "white",
             "startlinecolor": "#2a3f5f"
            },
            "type": "carpet"
           }
          ],
          "choropleth": [
           {
            "colorbar": {
             "outlinewidth": 0,
             "ticks": ""
            },
            "type": "choropleth"
           }
          ],
          "contour": [
           {
            "colorbar": {
             "outlinewidth": 0,
             "ticks": ""
            },
            "colorscale": [
             [
              0,
              "#0d0887"
             ],
             [
              0.1111111111111111,
              "#46039f"
             ],
             [
              0.2222222222222222,
              "#7201a8"
             ],
             [
              0.3333333333333333,
              "#9c179e"
             ],
             [
              0.4444444444444444,
              "#bd3786"
             ],
             [
              0.5555555555555556,
              "#d8576b"
             ],
             [
              0.6666666666666666,
              "#ed7953"
             ],
             [
              0.7777777777777778,
              "#fb9f3a"
             ],
             [
              0.8888888888888888,
              "#fdca26"
             ],
             [
              1,
              "#f0f921"
             ]
            ],
            "type": "contour"
           }
          ],
          "contourcarpet": [
           {
            "colorbar": {
             "outlinewidth": 0,
             "ticks": ""
            },
            "type": "contourcarpet"
           }
          ],
          "heatmap": [
           {
            "colorbar": {
             "outlinewidth": 0,
             "ticks": ""
            },
            "colorscale": [
             [
              0,
              "#0d0887"
             ],
             [
              0.1111111111111111,
              "#46039f"
             ],
             [
              0.2222222222222222,
              "#7201a8"
             ],
             [
              0.3333333333333333,
              "#9c179e"
             ],
             [
              0.4444444444444444,
              "#bd3786"
             ],
             [
              0.5555555555555556,
              "#d8576b"
             ],
             [
              0.6666666666666666,
              "#ed7953"
             ],
             [
              0.7777777777777778,
              "#fb9f3a"
             ],
             [
              0.8888888888888888,
              "#fdca26"
             ],
             [
              1,
              "#f0f921"
             ]
            ],
            "type": "heatmap"
           }
          ],
          "heatmapgl": [
           {
            "colorbar": {
             "outlinewidth": 0,
             "ticks": ""
            },
            "colorscale": [
             [
              0,
              "#0d0887"
             ],
             [
              0.1111111111111111,
              "#46039f"
             ],
             [
              0.2222222222222222,
              "#7201a8"
             ],
             [
              0.3333333333333333,
              "#9c179e"
             ],
             [
              0.4444444444444444,
              "#bd3786"
             ],
             [
              0.5555555555555556,
              "#d8576b"
             ],
             [
              0.6666666666666666,
              "#ed7953"
             ],
             [
              0.7777777777777778,
              "#fb9f3a"
             ],
             [
              0.8888888888888888,
              "#fdca26"
             ],
             [
              1,
              "#f0f921"
             ]
            ],
            "type": "heatmapgl"
           }
          ],
          "histogram": [
           {
            "marker": {
             "pattern": {
              "fillmode": "overlay",
              "size": 10,
              "solidity": 0.2
             }
            },
            "type": "histogram"
           }
          ],
          "histogram2d": [
           {
            "colorbar": {
             "outlinewidth": 0,
             "ticks": ""
            },
            "colorscale": [
             [
              0,
              "#0d0887"
             ],
             [
              0.1111111111111111,
              "#46039f"
             ],
             [
              0.2222222222222222,
              "#7201a8"
             ],
             [
              0.3333333333333333,
              "#9c179e"
             ],
             [
              0.4444444444444444,
              "#bd3786"
             ],
             [
              0.5555555555555556,
              "#d8576b"
             ],
             [
              0.6666666666666666,
              "#ed7953"
             ],
             [
              0.7777777777777778,
              "#fb9f3a"
             ],
             [
              0.8888888888888888,
              "#fdca26"
             ],
             [
              1,
              "#f0f921"
             ]
            ],
            "type": "histogram2d"
           }
          ],
          "histogram2dcontour": [
           {
            "colorbar": {
             "outlinewidth": 0,
             "ticks": ""
            },
            "colorscale": [
             [
              0,
              "#0d0887"
             ],
             [
              0.1111111111111111,
              "#46039f"
             ],
             [
              0.2222222222222222,
              "#7201a8"
             ],
             [
              0.3333333333333333,
              "#9c179e"
             ],
             [
              0.4444444444444444,
              "#bd3786"
             ],
             [
              0.5555555555555556,
              "#d8576b"
             ],
             [
              0.6666666666666666,
              "#ed7953"
             ],
             [
              0.7777777777777778,
              "#fb9f3a"
             ],
             [
              0.8888888888888888,
              "#fdca26"
             ],
             [
              1,
              "#f0f921"
             ]
            ],
            "type": "histogram2dcontour"
           }
          ],
          "mesh3d": [
           {
            "colorbar": {
             "outlinewidth": 0,
             "ticks": ""
            },
            "type": "mesh3d"
           }
          ],
          "parcoords": [
           {
            "line": {
             "colorbar": {
              "outlinewidth": 0,
              "ticks": ""
             }
            },
            "type": "parcoords"
           }
          ],
          "pie": [
           {
            "automargin": true,
            "type": "pie"
           }
          ],
          "scatter": [
           {
            "fillpattern": {
             "fillmode": "overlay",
             "size": 10,
             "solidity": 0.2
            },
            "type": "scatter"
           }
          ],
          "scatter3d": [
           {
            "line": {
             "colorbar": {
              "outlinewidth": 0,
              "ticks": ""
             }
            },
            "marker": {
             "colorbar": {
              "outlinewidth": 0,
              "ticks": ""
             }
            },
            "type": "scatter3d"
           }
          ],
          "scattercarpet": [
           {
            "marker": {
             "colorbar": {
              "outlinewidth": 0,
              "ticks": ""
             }
            },
            "type": "scattercarpet"
           }
          ],
          "scattergeo": [
           {
            "marker": {
             "colorbar": {
              "outlinewidth": 0,
              "ticks": ""
             }
            },
            "type": "scattergeo"
           }
          ],
          "scattergl": [
           {
            "marker": {
             "colorbar": {
              "outlinewidth": 0,
              "ticks": ""
             }
            },
            "type": "scattergl"
           }
          ],
          "scattermapbox": [
           {
            "marker": {
             "colorbar": {
              "outlinewidth": 0,
              "ticks": ""
             }
            },
            "type": "scattermapbox"
           }
          ],
          "scatterpolar": [
           {
            "marker": {
             "colorbar": {
              "outlinewidth": 0,
              "ticks": ""
             }
            },
            "type": "scatterpolar"
           }
          ],
          "scatterpolargl": [
           {
            "marker": {
             "colorbar": {
              "outlinewidth": 0,
              "ticks": ""
             }
            },
            "type": "scatterpolargl"
           }
          ],
          "scatterternary": [
           {
            "marker": {
             "colorbar": {
              "outlinewidth": 0,
              "ticks": ""
             }
            },
            "type": "scatterternary"
           }
          ],
          "surface": [
           {
            "colorbar": {
             "outlinewidth": 0,
             "ticks": ""
            },
            "colorscale": [
             [
              0,
              "#0d0887"
             ],
             [
              0.1111111111111111,
              "#46039f"
             ],
             [
              0.2222222222222222,
              "#7201a8"
             ],
             [
              0.3333333333333333,
              "#9c179e"
             ],
             [
              0.4444444444444444,
              "#bd3786"
             ],
             [
              0.5555555555555556,
              "#d8576b"
             ],
             [
              0.6666666666666666,
              "#ed7953"
             ],
             [
              0.7777777777777778,
              "#fb9f3a"
             ],
             [
              0.8888888888888888,
              "#fdca26"
             ],
             [
              1,
              "#f0f921"
             ]
            ],
            "type": "surface"
           }
          ],
          "table": [
           {
            "cells": {
             "fill": {
              "color": "#EBF0F8"
             },
             "line": {
              "color": "white"
             }
            },
            "header": {
             "fill": {
              "color": "#C8D4E3"
             },
             "line": {
              "color": "white"
             }
            },
            "type": "table"
           }
          ]
         },
         "layout": {
          "annotationdefaults": {
           "arrowcolor": "#2a3f5f",
           "arrowhead": 0,
           "arrowwidth": 1
          },
          "autotypenumbers": "strict",
          "coloraxis": {
           "colorbar": {
            "outlinewidth": 0,
            "ticks": ""
           }
          },
          "colorscale": {
           "diverging": [
            [
             0,
             "#8e0152"
            ],
            [
             0.1,
             "#c51b7d"
            ],
            [
             0.2,
             "#de77ae"
            ],
            [
             0.3,
             "#f1b6da"
            ],
            [
             0.4,
             "#fde0ef"
            ],
            [
             0.5,
             "#f7f7f7"
            ],
            [
             0.6,
             "#e6f5d0"
            ],
            [
             0.7,
             "#b8e186"
            ],
            [
             0.8,
             "#7fbc41"
            ],
            [
             0.9,
             "#4d9221"
            ],
            [
             1,
             "#276419"
            ]
           ],
           "sequential": [
            [
             0,
             "#0d0887"
            ],
            [
             0.1111111111111111,
             "#46039f"
            ],
            [
             0.2222222222222222,
             "#7201a8"
            ],
            [
             0.3333333333333333,
             "#9c179e"
            ],
            [
             0.4444444444444444,
             "#bd3786"
            ],
            [
             0.5555555555555556,
             "#d8576b"
            ],
            [
             0.6666666666666666,
             "#ed7953"
            ],
            [
             0.7777777777777778,
             "#fb9f3a"
            ],
            [
             0.8888888888888888,
             "#fdca26"
            ],
            [
             1,
             "#f0f921"
            ]
           ],
           "sequentialminus": [
            [
             0,
             "#0d0887"
            ],
            [
             0.1111111111111111,
             "#46039f"
            ],
            [
             0.2222222222222222,
             "#7201a8"
            ],
            [
             0.3333333333333333,
             "#9c179e"
            ],
            [
             0.4444444444444444,
             "#bd3786"
            ],
            [
             0.5555555555555556,
             "#d8576b"
            ],
            [
             0.6666666666666666,
             "#ed7953"
            ],
            [
             0.7777777777777778,
             "#fb9f3a"
            ],
            [
             0.8888888888888888,
             "#fdca26"
            ],
            [
             1,
             "#f0f921"
            ]
           ]
          },
          "colorway": [
           "#636efa",
           "#EF553B",
           "#00cc96",
           "#ab63fa",
           "#FFA15A",
           "#19d3f3",
           "#FF6692",
           "#B6E880",
           "#FF97FF",
           "#FECB52"
          ],
          "font": {
           "color": "#2a3f5f"
          },
          "geo": {
           "bgcolor": "white",
           "lakecolor": "white",
           "landcolor": "#E5ECF6",
           "showlakes": true,
           "showland": true,
           "subunitcolor": "white"
          },
          "hoverlabel": {
           "align": "left"
          },
          "hovermode": "closest",
          "mapbox": {
           "style": "light"
          },
          "paper_bgcolor": "white",
          "plot_bgcolor": "#E5ECF6",
          "polar": {
           "angularaxis": {
            "gridcolor": "white",
            "linecolor": "white",
            "ticks": ""
           },
           "bgcolor": "#E5ECF6",
           "radialaxis": {
            "gridcolor": "white",
            "linecolor": "white",
            "ticks": ""
           }
          },
          "scene": {
           "xaxis": {
            "backgroundcolor": "#E5ECF6",
            "gridcolor": "white",
            "gridwidth": 2,
            "linecolor": "white",
            "showbackground": true,
            "ticks": "",
            "zerolinecolor": "white"
           },
           "yaxis": {
            "backgroundcolor": "#E5ECF6",
            "gridcolor": "white",
            "gridwidth": 2,
            "linecolor": "white",
            "showbackground": true,
            "ticks": "",
            "zerolinecolor": "white"
           },
           "zaxis": {
            "backgroundcolor": "#E5ECF6",
            "gridcolor": "white",
            "gridwidth": 2,
            "linecolor": "white",
            "showbackground": true,
            "ticks": "",
            "zerolinecolor": "white"
           }
          },
          "shapedefaults": {
           "line": {
            "color": "#2a3f5f"
           }
          },
          "ternary": {
           "aaxis": {
            "gridcolor": "white",
            "linecolor": "white",
            "ticks": ""
           },
           "baxis": {
            "gridcolor": "white",
            "linecolor": "white",
            "ticks": ""
           },
           "bgcolor": "#E5ECF6",
           "caxis": {
            "gridcolor": "white",
            "linecolor": "white",
            "ticks": ""
           }
          },
          "title": {
           "x": 0.05
          },
          "xaxis": {
           "automargin": true,
           "gridcolor": "white",
           "linecolor": "white",
           "ticks": "",
           "title": {
            "standoff": 15
           },
           "zerolinecolor": "white",
           "zerolinewidth": 2
          },
          "yaxis": {
           "automargin": true,
           "gridcolor": "white",
           "linecolor": "white",
           "ticks": "",
           "title": {
            "standoff": 15
           },
           "zerolinecolor": "white",
           "zerolinewidth": 2
          }
         }
        },
        "title": {
         "text": "Percentage of Missing Values by Column"
        },
        "xaxis": {
         "anchor": "y",
         "domain": [
          0,
          1
         ],
         "ticksuffix": "%",
         "title": {
          "text": "% of Missing Values"
         },
         "type": "log"
        },
        "yaxis": {
         "anchor": "x",
         "categoryorder": "total ascending",
         "domain": [
          0,
          1
         ],
         "title": {
          "text": "Column Name"
         }
        }
       }
      }
     },
     "metadata": {},
     "output_type": "display_data"
    }
   ],
   "source": [
    "# Bar plot of missing values\n",
    "nas_bar = px.bar(\n",
    "    na_freqs, \n",
    "    y=\"column_name\",\n",
    "    x=\"percentage\",\n",
    "    log_x=True,\n",
    "    color=\"data_type\",\n",
    "    title=\"Percentage of Missing Values by Column\"\n",
    ")\n",
    "\n",
    "nas_bar.update_layout(\n",
    "    legend_title=\"Data Type\",\n",
    "    yaxis_title=\"Column Name\",\n",
    "    xaxis_ticksuffix = \"%\",\n",
    "    xaxis_title=\"% of Missing Values\"\n",
    ")\n",
    "\n",
    "# Arrange y-axis in ascending order\n",
    "nas_bar.update_yaxes(categoryorder=\"total ascending\")\n",
    "\n",
    "nas_bar.show()"
   ]
  },
  {
   "cell_type": "code",
   "execution_count": 31,
   "metadata": {},
   "outputs": [
    {
     "name": "stdout",
     "output_type": "stream",
     "text": [
      "<class 'pandas.core.frame.DataFrame'>\n",
      "Int64Index: 241152 entries, 0 to 241151\n",
      "Data columns (total 70 columns):\n",
      " #   Column                                    Non-Null Count   Dtype   \n",
      "---  ------                                    --------------   -----   \n",
      " 0   activity_year                             241152 non-null  float32 \n",
      " 1   lei                                       241152 non-null  object  \n",
      " 2   loan_type                                 241152 non-null  category\n",
      " 3   loan_purpose                              241152 non-null  category\n",
      " 4   preapproval                               241152 non-null  category\n",
      " 5   construction_method                       241152 non-null  category\n",
      " 6   occupancy_type                            241152 non-null  category\n",
      " 7   loan_amount                               241152 non-null  float32 \n",
      " 8   action_taken                              241152 non-null  category\n",
      " 9   state_code                                238397 non-null  object  \n",
      " 10  county_code                               236729 non-null  object  \n",
      " 11  census_tract                              236072 non-null  category\n",
      " 12  applicant_ethnicity_1                     241049 non-null  category\n",
      " 13  co_applicant_ethnicity_1                  73967 non-null   object  \n",
      " 14  applicant_ethnicity_observed              241152 non-null  category\n",
      " 15  co_applicant_ethnicity_observed           241152 non-null  category\n",
      " 16  applicant_race_1                          241116 non-null  category\n",
      " 17  co_applicant_race_1                       241137 non-null  category\n",
      " 18  applicant_race_observed                   241152 non-null  category\n",
      " 19  co_applicant_race_observed                241152 non-null  category\n",
      " 20  applicant_sex                             241152 non-null  category\n",
      " 21  co_applicant_sex                          241152 non-null  category\n",
      " 22  applicant_sex_observed                    241152 non-null  category\n",
      " 23  co_applicant_sex_observed                 241152 non-null  category\n",
      " 24  applicant_age                             216158 non-null  category\n",
      " 25  applicant_age_above_62                    216158 non-null  category\n",
      " 26  co_applicant_age                          88676 non-null   category\n",
      " 27  co_applicant_age_above_62                 88676 non-null   category\n",
      " 28  income                                    213827 non-null  float32 \n",
      " 29  purchaser_type                            241152 non-null  category\n",
      " 30  rate_spread                               117680 non-null  float32 \n",
      " 31  hoepa_status                              241152 non-null  category\n",
      " 32  lien_status                               241152 non-null  category\n",
      " 33  applicant_credit_scoring_model            231803 non-null  object  \n",
      " 34  co_applicant_credit_scoring_model         235070 non-null  object  \n",
      " 35  denial_reason_1                           237336 non-null  category\n",
      " 36  total_loan_costs                          112127 non-null  float32 \n",
      " 37  origination_charges                       113290 non-null  float32 \n",
      " 38  discount_points                           59799 non-null   float32 \n",
      " 39  lender_credits                            39470 non-null   float32 \n",
      " 40  interest_rate                             152933 non-null  float32 \n",
      " 41  debt_to_income_ratio                      158861 non-null  category\n",
      " 42  combined_loan_to_value_ratio              157474 non-null  float32 \n",
      " 43  loan_term                                 232601 non-null  float32 \n",
      " 44  intro_rate_period                         46513 non-null   float32 \n",
      " 45  balloon_payment                           236588 non-null  category\n",
      " 46  interest_only_payment                     236588 non-null  category\n",
      " 47  negative_amortization                     236588 non-null  category\n",
      " 48  other_non_amortizing_features             236588 non-null  category\n",
      " 49  property_value                            186282 non-null  float32 \n",
      " 50  manufactured_home_secured_property_type   236598 non-null  category\n",
      " 51  manufactured_home_land_property_interest  236597 non-null  category\n",
      " 52  total_units                               241152 non-null  category\n",
      " 53  submission_of_application                 236589 non-null  category\n",
      " 54  initially_payable_to_institution          236589 non-null  category\n",
      " 55  aus_1                                     230153 non-null  object  \n",
      " 56  reverse_mortgage                          236594 non-null  category\n",
      " 57  open_end_line_of_credit                   236611 non-null  category\n",
      " 58  business_or_commercial_purpose            236584 non-null  category\n",
      " 59  institution_name                          241150 non-null  object  \n",
      " 60  institution_city                          241150 non-null  category\n",
      " 61  institution_country                       241150 non-null  category\n",
      " 62  institution_postal_code                   241150 non-null  object  \n",
      " 63  institution_years                         215297 non-null  float32 \n",
      " 64  state_name                                238394 non-null  category\n",
      " 65  county_name                               236726 non-null  object  \n",
      " 66  county_lat                                236726 non-null  float32 \n",
      " 67  county_long                               236726 non-null  float32 \n",
      " 68  institution_lat                           224032 non-null  float32 \n",
      " 69  institution_long                          224032 non-null  float32 \n",
      "dtypes: category(42), float32(18), object(10)\n",
      "memory usage: 50.1+ MB\n"
     ]
    }
   ],
   "source": [
    "lar.info()"
   ]
  },
  {
   "cell_type": "code",
   "execution_count": 32,
   "metadata": {},
   "outputs": [
    {
     "data": {
      "text/html": [
       "<div>\n",
       "<style scoped>\n",
       "    .dataframe tbody tr th:only-of-type {\n",
       "        vertical-align: middle;\n",
       "    }\n",
       "\n",
       "    .dataframe tbody tr th {\n",
       "        vertical-align: top;\n",
       "    }\n",
       "\n",
       "    .dataframe thead th {\n",
       "        text-align: right;\n",
       "    }\n",
       "</style>\n",
       "<table border=\"1\" class=\"dataframe\">\n",
       "  <thead>\n",
       "    <tr style=\"text-align: right;\">\n",
       "      <th></th>\n",
       "      <th>activity_year</th>\n",
       "      <th>lei</th>\n",
       "      <th>loan_type</th>\n",
       "      <th>loan_purpose</th>\n",
       "      <th>preapproval</th>\n",
       "      <th>construction_method</th>\n",
       "      <th>occupancy_type</th>\n",
       "      <th>loan_amount</th>\n",
       "      <th>action_taken</th>\n",
       "      <th>state_code</th>\n",
       "      <th>county_code</th>\n",
       "      <th>census_tract</th>\n",
       "      <th>applicant_ethnicity_1</th>\n",
       "      <th>co_applicant_ethnicity_1</th>\n",
       "      <th>applicant_ethnicity_observed</th>\n",
       "      <th>co_applicant_ethnicity_observed</th>\n",
       "      <th>applicant_race_1</th>\n",
       "      <th>co_applicant_race_1</th>\n",
       "      <th>applicant_race_observed</th>\n",
       "      <th>co_applicant_race_observed</th>\n",
       "      <th>applicant_sex</th>\n",
       "      <th>co_applicant_sex</th>\n",
       "      <th>applicant_sex_observed</th>\n",
       "      <th>co_applicant_sex_observed</th>\n",
       "      <th>applicant_age</th>\n",
       "      <th>applicant_age_above_62</th>\n",
       "      <th>co_applicant_age</th>\n",
       "      <th>co_applicant_age_above_62</th>\n",
       "      <th>income</th>\n",
       "      <th>purchaser_type</th>\n",
       "      <th>rate_spread</th>\n",
       "      <th>hoepa_status</th>\n",
       "      <th>lien_status</th>\n",
       "      <th>applicant_credit_scoring_model</th>\n",
       "      <th>co_applicant_credit_scoring_model</th>\n",
       "      <th>denial_reason_1</th>\n",
       "      <th>total_loan_costs</th>\n",
       "      <th>origination_charges</th>\n",
       "      <th>discount_points</th>\n",
       "      <th>lender_credits</th>\n",
       "      <th>interest_rate</th>\n",
       "      <th>debt_to_income_ratio</th>\n",
       "      <th>combined_loan_to_value_ratio</th>\n",
       "      <th>loan_term</th>\n",
       "      <th>intro_rate_period</th>\n",
       "      <th>balloon_payment</th>\n",
       "      <th>interest_only_payment</th>\n",
       "      <th>negative_amortization</th>\n",
       "      <th>other_non_amortizing_features</th>\n",
       "      <th>property_value</th>\n",
       "      <th>manufactured_home_secured_property_type</th>\n",
       "      <th>manufactured_home_land_property_interest</th>\n",
       "      <th>total_units</th>\n",
       "      <th>submission_of_application</th>\n",
       "      <th>initially_payable_to_institution</th>\n",
       "      <th>aus_1</th>\n",
       "      <th>reverse_mortgage</th>\n",
       "      <th>open_end_line_of_credit</th>\n",
       "      <th>business_or_commercial_purpose</th>\n",
       "      <th>institution_name</th>\n",
       "      <th>institution_city</th>\n",
       "      <th>institution_country</th>\n",
       "      <th>institution_postal_code</th>\n",
       "      <th>institution_years</th>\n",
       "      <th>state_name</th>\n",
       "      <th>county_name</th>\n",
       "      <th>county_lat</th>\n",
       "      <th>county_long</th>\n",
       "      <th>institution_lat</th>\n",
       "      <th>institution_long</th>\n",
       "    </tr>\n",
       "  </thead>\n",
       "  <tbody>\n",
       "    <tr>\n",
       "      <th>0</th>\n",
       "      <td>2,022.00</td>\n",
       "      <td>549300LBCBNR1OT00651</td>\n",
       "      <td>Conventional</td>\n",
       "      <td>Cash-out refinancing</td>\n",
       "      <td>Preapproval not requested</td>\n",
       "      <td>Site-built</td>\n",
       "      <td>Principal residence</td>\n",
       "      <td>165,000.00</td>\n",
       "      <td>Application withdrawn by applicant</td>\n",
       "      <td>RI</td>\n",
       "      <td>44007</td>\n",
       "      <td>44007011901</td>\n",
       "      <td>Not Hispanic or Latino</td>\n",
       "      <td>Not Hispanic or Latino</td>\n",
       "      <td>Not collected on the basis of visual observati...</td>\n",
       "      <td>Not collected on the basis of visual observati...</td>\n",
       "      <td>White</td>\n",
       "      <td>White</td>\n",
       "      <td>Not collected on the basis of visual observati...</td>\n",
       "      <td>Not collected on the basis of visual observati...</td>\n",
       "      <td>Male</td>\n",
       "      <td>Female</td>\n",
       "      <td>Not collected on the basis of visual observati...</td>\n",
       "      <td>Not collected on the basis of visual observati...</td>\n",
       "      <td>35-44</td>\n",
       "      <td>No</td>\n",
       "      <td>35-44</td>\n",
       "      <td>No</td>\n",
       "      <td>78.00</td>\n",
       "      <td>Not applicable</td>\n",
       "      <td>NaN</td>\n",
       "      <td>Not applicable</td>\n",
       "      <td>Secured by a first lien</td>\n",
       "      <td>Not applicable</td>\n",
       "      <td>Not applicable</td>\n",
       "      <td>Not applicable</td>\n",
       "      <td>NaN</td>\n",
       "      <td>NaN</td>\n",
       "      <td>NaN</td>\n",
       "      <td>NaN</td>\n",
       "      <td>NaN</td>\n",
       "      <td>NaN</td>\n",
       "      <td>NaN</td>\n",
       "      <td>360.00</td>\n",
       "      <td>NaN</td>\n",
       "      <td>No balloon payment</td>\n",
       "      <td>No interest-only payments</td>\n",
       "      <td>No negative amortization</td>\n",
       "      <td>No other non-fully amortizing features</td>\n",
       "      <td>NaN</td>\n",
       "      <td>Not applicable</td>\n",
       "      <td>Not applicable</td>\n",
       "      <td>1</td>\n",
       "      <td>Submitted directly to your institution</td>\n",
       "      <td>Initially payable to your institution</td>\n",
       "      <td>Desktop Underwriter (DU)</td>\n",
       "      <td>Not a reverse mortgage</td>\n",
       "      <td>Not an open-end line of credit</td>\n",
       "      <td>Not primarily for a business or commercial pur...</td>\n",
       "      <td>NATIONSTAR MORTGAGE LLC</td>\n",
       "      <td>Coppell</td>\n",
       "      <td>US</td>\n",
       "      <td>75019</td>\n",
       "      <td>NaN</td>\n",
       "      <td>Rhode Island</td>\n",
       "      <td>Providence County</td>\n",
       "      <td>41.87</td>\n",
       "      <td>-71.58</td>\n",
       "      <td>32.96</td>\n",
       "      <td>-96.99</td>\n",
       "    </tr>\n",
       "    <tr>\n",
       "      <th>1</th>\n",
       "      <td>2,022.00</td>\n",
       "      <td>549300DD5QQUHO6PCH70</td>\n",
       "      <td>Veterans Affairs</td>\n",
       "      <td>Home purchase</td>\n",
       "      <td>Preapproval not requested</td>\n",
       "      <td>Site-built</td>\n",
       "      <td>Principal residence</td>\n",
       "      <td>425,000.00</td>\n",
       "      <td>Loan originated</td>\n",
       "      <td>MS</td>\n",
       "      <td>28073</td>\n",
       "      <td>28073020206</td>\n",
       "      <td>Information not provided by applicant in mail ...</td>\n",
       "      <td>NaN</td>\n",
       "      <td>Not collected on the basis of visual observati...</td>\n",
       "      <td>Not collected on the basis of visual observati...</td>\n",
       "      <td>Information not provided by applicant in mail ...</td>\n",
       "      <td>Information not provided by applicant in mail ...</td>\n",
       "      <td>Not collected on the basis of visual observati...</td>\n",
       "      <td>Not collected on the basis of visual observati...</td>\n",
       "      <td>Information not provided by applicant in mail ...</td>\n",
       "      <td>Information not provided by applicant in mail ...</td>\n",
       "      <td>Not collected on the basis of visual observati...</td>\n",
       "      <td>Not collected on the basis of visual observati...</td>\n",
       "      <td>35-44</td>\n",
       "      <td>No</td>\n",
       "      <td>45-54</td>\n",
       "      <td>No</td>\n",
       "      <td>148.00</td>\n",
       "      <td>Ginnie Mae</td>\n",
       "      <td>-0.16</td>\n",
       "      <td>Not a high-cost mortgage</td>\n",
       "      <td>Secured by a first lien</td>\n",
       "      <td>Equifax Beacon 5.0</td>\n",
       "      <td>FICO Risk Score Classic 04</td>\n",
       "      <td>Not applicable</td>\n",
       "      <td>2,528.00</td>\n",
       "      <td>0.00</td>\n",
       "      <td>264.74</td>\n",
       "      <td>NaN</td>\n",
       "      <td>6.88</td>\n",
       "      <td>50%-60%</td>\n",
       "      <td>NaN</td>\n",
       "      <td>360.00</td>\n",
       "      <td>NaN</td>\n",
       "      <td>No balloon payment</td>\n",
       "      <td>No interest-only payments</td>\n",
       "      <td>No negative amortization</td>\n",
       "      <td>No other non-fully amortizing features</td>\n",
       "      <td>435,000.00</td>\n",
       "      <td>Not applicable</td>\n",
       "      <td>Not applicable</td>\n",
       "      <td>1</td>\n",
       "      <td>Submitted directly to your institution</td>\n",
       "      <td>Initially payable to your institution</td>\n",
       "      <td>Desktop Underwriter (DU)</td>\n",
       "      <td>Not a reverse mortgage</td>\n",
       "      <td>Not an open-end line of credit</td>\n",
       "      <td>Not primarily for a business or commercial pur...</td>\n",
       "      <td>Mortgage Research Center, LLC</td>\n",
       "      <td>Columbia</td>\n",
       "      <td>US</td>\n",
       "      <td>65203</td>\n",
       "      <td>4.00</td>\n",
       "      <td>Mississippi</td>\n",
       "      <td>Lamar County</td>\n",
       "      <td>31.20</td>\n",
       "      <td>-89.51</td>\n",
       "      <td>38.90</td>\n",
       "      <td>-92.40</td>\n",
       "    </tr>\n",
       "    <tr>\n",
       "      <th>2</th>\n",
       "      <td>2,022.00</td>\n",
       "      <td>549300LBCBNR1OT00651</td>\n",
       "      <td>Conventional</td>\n",
       "      <td>Home purchase</td>\n",
       "      <td>Preapproval not requested</td>\n",
       "      <td>Site-built</td>\n",
       "      <td>Investment property</td>\n",
       "      <td>105,000.00</td>\n",
       "      <td>Application denied</td>\n",
       "      <td>TX</td>\n",
       "      <td>48029</td>\n",
       "      <td>48029181003</td>\n",
       "      <td>Not Hispanic or Latino</td>\n",
       "      <td>NaN</td>\n",
       "      <td>Not collected on the basis of visual observati...</td>\n",
       "      <td>No co-applicant</td>\n",
       "      <td>Black or African American</td>\n",
       "      <td>No co-applicant</td>\n",
       "      <td>Not collected on the basis of visual observati...</td>\n",
       "      <td>No co-applicant</td>\n",
       "      <td>Male</td>\n",
       "      <td>No co-applicant</td>\n",
       "      <td>Not collected on the basis of visual observati...</td>\n",
       "      <td>No co-applicant</td>\n",
       "      <td>35-44</td>\n",
       "      <td>No</td>\n",
       "      <td>NaN</td>\n",
       "      <td>NaN</td>\n",
       "      <td>140.00</td>\n",
       "      <td>Not applicable</td>\n",
       "      <td>NaN</td>\n",
       "      <td>Not applicable</td>\n",
       "      <td>Secured by a first lien</td>\n",
       "      <td>Experian Fair Isaac</td>\n",
       "      <td>No co-applicant</td>\n",
       "      <td>Collateral</td>\n",
       "      <td>NaN</td>\n",
       "      <td>NaN</td>\n",
       "      <td>NaN</td>\n",
       "      <td>NaN</td>\n",
       "      <td>NaN</td>\n",
       "      <td>30%-&lt;36%</td>\n",
       "      <td>80.00</td>\n",
       "      <td>360.00</td>\n",
       "      <td>NaN</td>\n",
       "      <td>No balloon payment</td>\n",
       "      <td>No interest-only payments</td>\n",
       "      <td>No negative amortization</td>\n",
       "      <td>No other non-fully amortizing features</td>\n",
       "      <td>125,000.00</td>\n",
       "      <td>Not applicable</td>\n",
       "      <td>Not applicable</td>\n",
       "      <td>1</td>\n",
       "      <td>Submitted directly to your institution</td>\n",
       "      <td>Initially payable to your institution</td>\n",
       "      <td>Loan Prospector (LP)</td>\n",
       "      <td>Not a reverse mortgage</td>\n",
       "      <td>Not an open-end line of credit</td>\n",
       "      <td>Primarily for a business or commercial purpose</td>\n",
       "      <td>NATIONSTAR MORTGAGE LLC</td>\n",
       "      <td>Coppell</td>\n",
       "      <td>US</td>\n",
       "      <td>75019</td>\n",
       "      <td>NaN</td>\n",
       "      <td>Texas</td>\n",
       "      <td>Bexar County</td>\n",
       "      <td>29.45</td>\n",
       "      <td>-98.52</td>\n",
       "      <td>32.96</td>\n",
       "      <td>-96.99</td>\n",
       "    </tr>\n",
       "    <tr>\n",
       "      <th>3</th>\n",
       "      <td>2,022.00</td>\n",
       "      <td>549300LBCBNR1OT00651</td>\n",
       "      <td>Conventional</td>\n",
       "      <td>Home purchase</td>\n",
       "      <td>Preapproval not requested</td>\n",
       "      <td>Site-built</td>\n",
       "      <td>Principal residence</td>\n",
       "      <td>235,000.00</td>\n",
       "      <td>Loan originated</td>\n",
       "      <td>MS</td>\n",
       "      <td>28109</td>\n",
       "      <td>28109950505</td>\n",
       "      <td>Not Hispanic or Latino</td>\n",
       "      <td>NaN</td>\n",
       "      <td>Not collected on the basis of visual observati...</td>\n",
       "      <td>No co-applicant</td>\n",
       "      <td>White</td>\n",
       "      <td>No co-applicant</td>\n",
       "      <td>Not collected on the basis of visual observati...</td>\n",
       "      <td>No co-applicant</td>\n",
       "      <td>Female</td>\n",
       "      <td>No co-applicant</td>\n",
       "      <td>Not collected on the basis of visual observati...</td>\n",
       "      <td>No co-applicant</td>\n",
       "      <td>45-54</td>\n",
       "      <td>No</td>\n",
       "      <td>NaN</td>\n",
       "      <td>NaN</td>\n",
       "      <td>104.00</td>\n",
       "      <td>Fannie Mae</td>\n",
       "      <td>0.62</td>\n",
       "      <td>Not a high-cost mortgage</td>\n",
       "      <td>Secured by a first lien</td>\n",
       "      <td>Equifax Beacon 5.0</td>\n",
       "      <td>No co-applicant</td>\n",
       "      <td>Not applicable</td>\n",
       "      <td>6,951.29</td>\n",
       "      <td>4,310.60</td>\n",
       "      <td>2,810.60</td>\n",
       "      <td>NaN</td>\n",
       "      <td>4.88</td>\n",
       "      <td>37</td>\n",
       "      <td>80.00</td>\n",
       "      <td>360.00</td>\n",
       "      <td>NaN</td>\n",
       "      <td>No balloon payment</td>\n",
       "      <td>No interest-only payments</td>\n",
       "      <td>No negative amortization</td>\n",
       "      <td>No other non-fully amortizing features</td>\n",
       "      <td>295,000.00</td>\n",
       "      <td>Not applicable</td>\n",
       "      <td>Not applicable</td>\n",
       "      <td>1</td>\n",
       "      <td>Submitted directly to your institution</td>\n",
       "      <td>Initially payable to your institution</td>\n",
       "      <td>Desktop Underwriter (DU)</td>\n",
       "      <td>Not a reverse mortgage</td>\n",
       "      <td>Not an open-end line of credit</td>\n",
       "      <td>Not primarily for a business or commercial pur...</td>\n",
       "      <td>NATIONSTAR MORTGAGE LLC</td>\n",
       "      <td>Coppell</td>\n",
       "      <td>US</td>\n",
       "      <td>75019</td>\n",
       "      <td>NaN</td>\n",
       "      <td>Mississippi</td>\n",
       "      <td>Pearl River County</td>\n",
       "      <td>30.77</td>\n",
       "      <td>-89.59</td>\n",
       "      <td>32.96</td>\n",
       "      <td>-96.99</td>\n",
       "    </tr>\n",
       "    <tr>\n",
       "      <th>4</th>\n",
       "      <td>2,022.00</td>\n",
       "      <td>549300LBCBNR1OT00651</td>\n",
       "      <td>Conventional</td>\n",
       "      <td>Refinancing</td>\n",
       "      <td>Preapproval not requested</td>\n",
       "      <td>Site-built</td>\n",
       "      <td>Principal residence</td>\n",
       "      <td>215,000.00</td>\n",
       "      <td>Purchased loan</td>\n",
       "      <td>MA</td>\n",
       "      <td>25009</td>\n",
       "      <td>25009252101</td>\n",
       "      <td>Not applicable</td>\n",
       "      <td>NaN</td>\n",
       "      <td>Not applicable</td>\n",
       "      <td>Not applicable</td>\n",
       "      <td>Not applicable.</td>\n",
       "      <td>Not applicable</td>\n",
       "      <td>Not applicable</td>\n",
       "      <td>Not applicable</td>\n",
       "      <td>Not applicable</td>\n",
       "      <td>Not applicable</td>\n",
       "      <td>Not applicable</td>\n",
       "      <td>Not applicable</td>\n",
       "      <td>NaN</td>\n",
       "      <td>NaN</td>\n",
       "      <td>NaN</td>\n",
       "      <td>NaN</td>\n",
       "      <td>NaN</td>\n",
       "      <td>Fannie Mae</td>\n",
       "      <td>NaN</td>\n",
       "      <td>Not a high-cost mortgage</td>\n",
       "      <td>Secured by a first lien</td>\n",
       "      <td>Not applicable</td>\n",
       "      <td>Not applicable</td>\n",
       "      <td>Not applicable</td>\n",
       "      <td>6,170.24</td>\n",
       "      <td>4,921.67</td>\n",
       "      <td>3,926.67</td>\n",
       "      <td>NaN</td>\n",
       "      <td>3.12</td>\n",
       "      <td>NaN</td>\n",
       "      <td>NaN</td>\n",
       "      <td>360.00</td>\n",
       "      <td>NaN</td>\n",
       "      <td>No balloon payment</td>\n",
       "      <td>No interest-only payments</td>\n",
       "      <td>No negative amortization</td>\n",
       "      <td>No other non-fully amortizing features</td>\n",
       "      <td>375,000.00</td>\n",
       "      <td>Not applicable</td>\n",
       "      <td>Not applicable</td>\n",
       "      <td>1</td>\n",
       "      <td>Not applicable</td>\n",
       "      <td>Not applicable</td>\n",
       "      <td>Not applicable</td>\n",
       "      <td>Not a reverse mortgage</td>\n",
       "      <td>Not an open-end line of credit</td>\n",
       "      <td>Not primarily for a business or commercial pur...</td>\n",
       "      <td>NATIONSTAR MORTGAGE LLC</td>\n",
       "      <td>Coppell</td>\n",
       "      <td>US</td>\n",
       "      <td>75019</td>\n",
       "      <td>NaN</td>\n",
       "      <td>Massachusetts</td>\n",
       "      <td>Essex County</td>\n",
       "      <td>42.64</td>\n",
       "      <td>-70.86</td>\n",
       "      <td>32.96</td>\n",
       "      <td>-96.99</td>\n",
       "    </tr>\n",
       "  </tbody>\n",
       "</table>\n",
       "</div>"
      ],
      "text/plain": [
       "   activity_year                   lei         loan_type  \\\n",
       "0       2,022.00  549300LBCBNR1OT00651      Conventional   \n",
       "1       2,022.00  549300DD5QQUHO6PCH70  Veterans Affairs   \n",
       "2       2,022.00  549300LBCBNR1OT00651      Conventional   \n",
       "3       2,022.00  549300LBCBNR1OT00651      Conventional   \n",
       "4       2,022.00  549300LBCBNR1OT00651      Conventional   \n",
       "\n",
       "           loan_purpose                preapproval construction_method  \\\n",
       "0  Cash-out refinancing  Preapproval not requested          Site-built   \n",
       "1         Home purchase  Preapproval not requested          Site-built   \n",
       "2         Home purchase  Preapproval not requested          Site-built   \n",
       "3         Home purchase  Preapproval not requested          Site-built   \n",
       "4           Refinancing  Preapproval not requested          Site-built   \n",
       "\n",
       "        occupancy_type  loan_amount                        action_taken  \\\n",
       "0  Principal residence   165,000.00  Application withdrawn by applicant   \n",
       "1  Principal residence   425,000.00                     Loan originated   \n",
       "2  Investment property   105,000.00                  Application denied   \n",
       "3  Principal residence   235,000.00                     Loan originated   \n",
       "4  Principal residence   215,000.00                      Purchased loan   \n",
       "\n",
       "  state_code county_code census_tract  \\\n",
       "0         RI       44007  44007011901   \n",
       "1         MS       28073  28073020206   \n",
       "2         TX       48029  48029181003   \n",
       "3         MS       28109  28109950505   \n",
       "4         MA       25009  25009252101   \n",
       "\n",
       "                               applicant_ethnicity_1 co_applicant_ethnicity_1  \\\n",
       "0                             Not Hispanic or Latino   Not Hispanic or Latino   \n",
       "1  Information not provided by applicant in mail ...                      NaN   \n",
       "2                             Not Hispanic or Latino                      NaN   \n",
       "3                             Not Hispanic or Latino                      NaN   \n",
       "4                                     Not applicable                      NaN   \n",
       "\n",
       "                        applicant_ethnicity_observed  \\\n",
       "0  Not collected on the basis of visual observati...   \n",
       "1  Not collected on the basis of visual observati...   \n",
       "2  Not collected on the basis of visual observati...   \n",
       "3  Not collected on the basis of visual observati...   \n",
       "4                                     Not applicable   \n",
       "\n",
       "                     co_applicant_ethnicity_observed  \\\n",
       "0  Not collected on the basis of visual observati...   \n",
       "1  Not collected on the basis of visual observati...   \n",
       "2                                    No co-applicant   \n",
       "3                                    No co-applicant   \n",
       "4                                     Not applicable   \n",
       "\n",
       "                                    applicant_race_1  \\\n",
       "0                                              White   \n",
       "1  Information not provided by applicant in mail ...   \n",
       "2                          Black or African American   \n",
       "3                                              White   \n",
       "4                                    Not applicable.   \n",
       "\n",
       "                                 co_applicant_race_1  \\\n",
       "0                                              White   \n",
       "1  Information not provided by applicant in mail ...   \n",
       "2                                    No co-applicant   \n",
       "3                                    No co-applicant   \n",
       "4                                     Not applicable   \n",
       "\n",
       "                             applicant_race_observed  \\\n",
       "0  Not collected on the basis of visual observati...   \n",
       "1  Not collected on the basis of visual observati...   \n",
       "2  Not collected on the basis of visual observati...   \n",
       "3  Not collected on the basis of visual observati...   \n",
       "4                                     Not applicable   \n",
       "\n",
       "                          co_applicant_race_observed  \\\n",
       "0  Not collected on the basis of visual observati...   \n",
       "1  Not collected on the basis of visual observati...   \n",
       "2                                    No co-applicant   \n",
       "3                                    No co-applicant   \n",
       "4                                     Not applicable   \n",
       "\n",
       "                                       applicant_sex  \\\n",
       "0                                               Male   \n",
       "1  Information not provided by applicant in mail ...   \n",
       "2                                               Male   \n",
       "3                                             Female   \n",
       "4                                     Not applicable   \n",
       "\n",
       "                                    co_applicant_sex  \\\n",
       "0                                             Female   \n",
       "1  Information not provided by applicant in mail ...   \n",
       "2                                    No co-applicant   \n",
       "3                                    No co-applicant   \n",
       "4                                     Not applicable   \n",
       "\n",
       "                              applicant_sex_observed  \\\n",
       "0  Not collected on the basis of visual observati...   \n",
       "1  Not collected on the basis of visual observati...   \n",
       "2  Not collected on the basis of visual observati...   \n",
       "3  Not collected on the basis of visual observati...   \n",
       "4                                     Not applicable   \n",
       "\n",
       "                           co_applicant_sex_observed applicant_age  \\\n",
       "0  Not collected on the basis of visual observati...         35-44   \n",
       "1  Not collected on the basis of visual observati...         35-44   \n",
       "2                                    No co-applicant         35-44   \n",
       "3                                    No co-applicant         45-54   \n",
       "4                                     Not applicable           NaN   \n",
       "\n",
       "  applicant_age_above_62 co_applicant_age co_applicant_age_above_62  income  \\\n",
       "0                     No            35-44                        No   78.00   \n",
       "1                     No            45-54                        No  148.00   \n",
       "2                     No              NaN                       NaN  140.00   \n",
       "3                     No              NaN                       NaN  104.00   \n",
       "4                    NaN              NaN                       NaN     NaN   \n",
       "\n",
       "   purchaser_type  rate_spread              hoepa_status  \\\n",
       "0  Not applicable          NaN            Not applicable   \n",
       "1      Ginnie Mae        -0.16  Not a high-cost mortgage   \n",
       "2  Not applicable          NaN            Not applicable   \n",
       "3      Fannie Mae         0.62  Not a high-cost mortgage   \n",
       "4      Fannie Mae          NaN  Not a high-cost mortgage   \n",
       "\n",
       "               lien_status applicant_credit_scoring_model  \\\n",
       "0  Secured by a first lien                 Not applicable   \n",
       "1  Secured by a first lien             Equifax Beacon 5.0   \n",
       "2  Secured by a first lien            Experian Fair Isaac   \n",
       "3  Secured by a first lien             Equifax Beacon 5.0   \n",
       "4  Secured by a first lien                 Not applicable   \n",
       "\n",
       "  co_applicant_credit_scoring_model denial_reason_1  total_loan_costs  \\\n",
       "0                    Not applicable  Not applicable               NaN   \n",
       "1        FICO Risk Score Classic 04  Not applicable          2,528.00   \n",
       "2                   No co-applicant      Collateral               NaN   \n",
       "3                   No co-applicant  Not applicable          6,951.29   \n",
       "4                    Not applicable  Not applicable          6,170.24   \n",
       "\n",
       "   origination_charges  discount_points  lender_credits  interest_rate  \\\n",
       "0                  NaN              NaN             NaN            NaN   \n",
       "1                 0.00           264.74             NaN           6.88   \n",
       "2                  NaN              NaN             NaN            NaN   \n",
       "3             4,310.60         2,810.60             NaN           4.88   \n",
       "4             4,921.67         3,926.67             NaN           3.12   \n",
       "\n",
       "  debt_to_income_ratio  combined_loan_to_value_ratio  loan_term  \\\n",
       "0                  NaN                           NaN     360.00   \n",
       "1              50%-60%                           NaN     360.00   \n",
       "2             30%-<36%                         80.00     360.00   \n",
       "3                   37                         80.00     360.00   \n",
       "4                  NaN                           NaN     360.00   \n",
       "\n",
       "   intro_rate_period     balloon_payment      interest_only_payment  \\\n",
       "0                NaN  No balloon payment  No interest-only payments   \n",
       "1                NaN  No balloon payment  No interest-only payments   \n",
       "2                NaN  No balloon payment  No interest-only payments   \n",
       "3                NaN  No balloon payment  No interest-only payments   \n",
       "4                NaN  No balloon payment  No interest-only payments   \n",
       "\n",
       "      negative_amortization           other_non_amortizing_features  \\\n",
       "0  No negative amortization  No other non-fully amortizing features   \n",
       "1  No negative amortization  No other non-fully amortizing features   \n",
       "2  No negative amortization  No other non-fully amortizing features   \n",
       "3  No negative amortization  No other non-fully amortizing features   \n",
       "4  No negative amortization  No other non-fully amortizing features   \n",
       "\n",
       "   property_value manufactured_home_secured_property_type  \\\n",
       "0             NaN                          Not applicable   \n",
       "1      435,000.00                          Not applicable   \n",
       "2      125,000.00                          Not applicable   \n",
       "3      295,000.00                          Not applicable   \n",
       "4      375,000.00                          Not applicable   \n",
       "\n",
       "  manufactured_home_land_property_interest total_units  \\\n",
       "0                           Not applicable           1   \n",
       "1                           Not applicable           1   \n",
       "2                           Not applicable           1   \n",
       "3                           Not applicable           1   \n",
       "4                           Not applicable           1   \n",
       "\n",
       "                submission_of_application  \\\n",
       "0  Submitted directly to your institution   \n",
       "1  Submitted directly to your institution   \n",
       "2  Submitted directly to your institution   \n",
       "3  Submitted directly to your institution   \n",
       "4                          Not applicable   \n",
       "\n",
       "        initially_payable_to_institution                     aus_1  \\\n",
       "0  Initially payable to your institution  Desktop Underwriter (DU)   \n",
       "1  Initially payable to your institution  Desktop Underwriter (DU)   \n",
       "2  Initially payable to your institution      Loan Prospector (LP)   \n",
       "3  Initially payable to your institution  Desktop Underwriter (DU)   \n",
       "4                         Not applicable            Not applicable   \n",
       "\n",
       "         reverse_mortgage         open_end_line_of_credit  \\\n",
       "0  Not a reverse mortgage  Not an open-end line of credit   \n",
       "1  Not a reverse mortgage  Not an open-end line of credit   \n",
       "2  Not a reverse mortgage  Not an open-end line of credit   \n",
       "3  Not a reverse mortgage  Not an open-end line of credit   \n",
       "4  Not a reverse mortgage  Not an open-end line of credit   \n",
       "\n",
       "                      business_or_commercial_purpose  \\\n",
       "0  Not primarily for a business or commercial pur...   \n",
       "1  Not primarily for a business or commercial pur...   \n",
       "2     Primarily for a business or commercial purpose   \n",
       "3  Not primarily for a business or commercial pur...   \n",
       "4  Not primarily for a business or commercial pur...   \n",
       "\n",
       "                institution_name institution_city institution_country  \\\n",
       "0        NATIONSTAR MORTGAGE LLC          Coppell                  US   \n",
       "1  Mortgage Research Center, LLC         Columbia                  US   \n",
       "2        NATIONSTAR MORTGAGE LLC          Coppell                  US   \n",
       "3        NATIONSTAR MORTGAGE LLC          Coppell                  US   \n",
       "4        NATIONSTAR MORTGAGE LLC          Coppell                  US   \n",
       "\n",
       "  institution_postal_code  institution_years     state_name  \\\n",
       "0                   75019                NaN   Rhode Island   \n",
       "1                   65203               4.00    Mississippi   \n",
       "2                   75019                NaN          Texas   \n",
       "3                   75019                NaN    Mississippi   \n",
       "4                   75019                NaN  Massachusetts   \n",
       "\n",
       "          county_name  county_lat  county_long  institution_lat  \\\n",
       "0   Providence County       41.87       -71.58            32.96   \n",
       "1        Lamar County       31.20       -89.51            38.90   \n",
       "2        Bexar County       29.45       -98.52            32.96   \n",
       "3  Pearl River County       30.77       -89.59            32.96   \n",
       "4        Essex County       42.64       -70.86            32.96   \n",
       "\n",
       "   institution_long  \n",
       "0            -96.99  \n",
       "1            -92.40  \n",
       "2            -96.99  \n",
       "3            -96.99  \n",
       "4            -96.99  "
      ]
     },
     "execution_count": 32,
     "metadata": {},
     "output_type": "execute_result"
    }
   ],
   "source": [
    "lar.head(5)"
   ]
  },
  {
   "attachments": {},
   "cell_type": "markdown",
   "metadata": {},
   "source": [
    "## Exploratory Data Analysis"
   ]
  },
  {
   "attachments": {},
   "cell_type": "markdown",
   "metadata": {},
   "source": [
    "At this point, the data is ready to be summarized and visualized. This will be done by exploring every subject of study in the following order: the loan, the applicant, the lender, and the property."
   ]
  },
  {
   "attachments": {},
   "cell_type": "markdown",
   "metadata": {},
   "source": [
    "### Custom Functions"
   ]
  },
  {
   "attachments": {},
   "cell_type": "markdown",
   "metadata": {},
   "source": [
    "The below functions are build to prevent repeating code during the analysis:"
   ]
  },
  {
   "cell_type": "code",
   "execution_count": 33,
   "metadata": {},
   "outputs": [],
   "source": [
    "def destimate(data_frame: pd.DataFrame, qual_feat: list, quant_feat: str) -> pd.DataFrame:\n",
    "    \"\"\"Computes estimates of frequency, location, variability, and distribution\n",
    "    of a quantitative feature by each category of a qualitative feature.\"\"\"\n",
    "    # List of estimate functions\n",
    "    statistics = [\"count\", lambda x: x.count() / data_frame[quant_feat].count(),\n",
    "                  \"sum\", \"mean\", lambda x: trim_mean(x, 0.1), \"min\", \n",
    "                  lambda x: x.quantile(0.25), \"median\", \n",
    "                  lambda x: x.quantile(0.75), \"max\", lambda x: x.max() - x.min(), \n",
    "                  lambda x: x.quantile(0.75) - x.quantile(0.25), \"std\", \"var\", \"skew\", \n",
    "                  lambda x: kurtosis(x)]\n",
    "    \n",
    "    # Column names for lambda functions\n",
    "    lambda_names = {\"<lambda_0>\":\"prop\", \"<lambda_1>\":\"trimean\",\"<lambda_2>\":\"q1\", \n",
    "                   \"<lambda_3>\":\"q3\", \"<lambda_4>\":\"range\", \"<lambda_5>\":\"iq_range\", \n",
    "                   \"<lambda_6>\":\"kurt\"}\n",
    "    \n",
    "    # Group by given cat_col, aggregate descriptive statistics\n",
    "    agg_df = data_frame.groupby(qual_feat)[quant_feat].agg(statistics).reset_index()\n",
    "    \n",
    "    # Rename lambda functions\n",
    "    agg_df = agg_df.rename(columns=lambda_names)\n",
    "    \n",
    "    # Sort by counts in descending order\n",
    "    agg_df = agg_df.sort_values(by=\"count\", ascending=False).reset_index(drop=True)\n",
    "\n",
    "    return agg_df[agg_df[\"count\"] > 0] #Return results with non-zero counts"
   ]
  },
  {
   "attachments": {},
   "cell_type": "markdown",
   "metadata": {},
   "source": [
    "### The Loan"
   ]
  },
  {
   "attachments": {},
   "cell_type": "markdown",
   "metadata": {},
   "source": [
    "Let's start by analizing all quantitative features related to the loan itself."
   ]
  },
  {
   "cell_type": "code",
   "execution_count": 34,
   "metadata": {},
   "outputs": [],
   "source": [
    "# List of all quantitative features related to the loan itself\n",
    "loan_quant_feats = [\"loan_amount\",\"interest_rate\",\"rate_spread\",\"total_loan_costs\",\"origination_charges\",\"discount_points\",\"lender_credits\",\"loan_term\"]"
   ]
  },
  {
   "attachments": {},
   "cell_type": "markdown",
   "metadata": {},
   "source": [
    "#### Loan Amount"
   ]
  },
  {
   "cell_type": "code",
   "execution_count": 35,
   "metadata": {},
   "outputs": [
    {
     "data": {
      "text/plain": [
       "count    241,152.00\n",
       "mean     319,130.78\n",
       "std       2,239,962\n",
       "min        5,000.00\n",
       "25%      115,000.00\n",
       "50%      225,000.00\n",
       "75%      365,000.00\n",
       "max     725,004,992\n",
       "Name: loan_amount, dtype: float64"
      ]
     },
     "execution_count": 35,
     "metadata": {},
     "output_type": "execute_result"
    }
   ],
   "source": [
    "lar[loan_quant_feats[0]].describe()"
   ]
  },
  {
   "attachments": {},
   "cell_type": "markdown",
   "metadata": {},
   "source": [
    "## Resources\n",
    "- [2022 HMDA Documentation](https://ffiec.cfpb.gov/documentation/2022)\n",
    "- [2022 Modified LAR Schema](https://ffiec.cfpb.gov/documentation/2022/modified-lar-schema/)\n",
    "- [Using Modified LAR Data](https://github.com/cfpb/hmda-platform/blob/master/docs/UsingModifiedLar.md)\n",
    "- [2022 HMDA Data on Mortgage Lending Now Available](https://www.consumerfinance.gov/about-us/newsroom/2022-hmda-data-on-mortgage-lending-now-available/)"
   ]
  }
 ],
 "metadata": {
  "kernelspec": {
   "display_name": "hum-dah-eda",
   "language": "python",
   "name": "python3"
  },
  "language_info": {
   "codemirror_mode": {
    "name": "ipython",
    "version": 3
   },
   "file_extension": ".py",
   "mimetype": "text/x-python",
   "name": "python",
   "nbconvert_exporter": "python",
   "pygments_lexer": "ipython3",
   "version": "3.10.9"
  },
  "orig_nbformat": 4
 },
 "nbformat": 4,
 "nbformat_minor": 2
}
