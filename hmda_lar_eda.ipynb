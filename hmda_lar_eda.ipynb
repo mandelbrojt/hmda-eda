{
 "cells": [
  {
   "attachments": {},
   "cell_type": "markdown",
   "metadata": {},
   "source": [
    "# Mortgage Lending Analysis"
   ]
  },
  {
   "attachments": {},
   "cell_type": "markdown",
   "metadata": {},
   "source": [
    "<img\n",
    "    style=\"width:800px; height:300px; object-fit:cover;\"\n",
    "    src=\"https://free4kwallpapers.com/uploads/originals/2018/06/09/itap-of-some-more-beach-houses-wallpaper.jpg\"\n",
    "/>"
   ]
  },
  {
   "attachments": {},
   "cell_type": "markdown",
   "metadata": {},
   "source": [
    "## Introduction"
   ]
  },
  {
   "attachments": {},
   "cell_type": "markdown",
   "metadata": {},
   "source": [
    "This project will conduct an **exploratory data analysis** of the modified Home Mortgage Disclosure Act (HMDA) [2022 Loan Application Register](https://ffiec.cfpb.gov/documentation/2022/publications/modified-lar/) (LAR) data. \n",
    "\n",
    "The data contains **loan-level information filed by financial institutions** and modified by the [Consumer Financial Protection Bureau](https://www.consumerfinance.gov/) (CFPB) to protect the privacy of borrowers and lenders.\n",
    "\n",
    "The HMDA is a United States federal law that requires financial institutions to maintain, report, and publicly disclose loan-level information about **mortgages**.\n",
    "\n",
    "A detailed explanation of the data fields and definitions can be found in the [HMDA Documentation](https://ffiec.cfpb.gov/documentation/2022/lar-data-fields/)."
   ]
  },
  {
   "cell_type": "code",
   "execution_count": 1,
   "metadata": {},
   "outputs": [
    {
     "name": "stdout",
     "output_type": "stream",
     "text": [
      "Size: 3736212304 bytes\n",
      "Lines: 16076740\n"
     ]
    }
   ],
   "source": [
    "# Print the file size in bytes and the number of lines\n",
    "!stat -f \"Size: %z bytes\" ./data/2022_combined_mlar_header.txt && wc -l ./data/2022_combined_mlar_header.txt | awk '{print \"Lines:\", $1}'"
   ]
  },
  {
   "attachments": {},
   "cell_type": "markdown",
   "metadata": {},
   "source": [
    "The file is **3.7 gigabytes** in size **after decompression** and contains approximately **16 million records**.\n",
    "\n",
    "The data can be downloaded directly from [here](https://s3.amazonaws.com/cfpb-hmda-public/prod/dynamic-data/combined-mlar/2022/header/2022_combined_mlar_header.zip) as a `.zip` file."
   ]
  },
  {
   "attachments": {},
   "cell_type": "markdown",
   "metadata": {},
   "source": [
    "> **Note**: For more details on this project, please refer to its [Github repository](https://github.com/mandelbrojt/hum-dah)."
   ]
  },
  {
   "attachments": {},
   "cell_type": "markdown",
   "metadata": {},
   "source": [
    "## Data Preparation"
   ]
  },
  {
   "attachments": {},
   "cell_type": "markdown",
   "metadata": {},
   "source": [
    "### Importing Libraries and Modules"
   ]
  },
  {
   "attachments": {},
   "cell_type": "markdown",
   "metadata": {},
   "source": [
    "The following libraries and modules are required for the correct execution of the code in this project:"
   ]
  },
  {
   "cell_type": "code",
   "execution_count": 2,
   "metadata": {},
   "outputs": [],
   "source": [
    "import dask.dataframe as dd\n",
    "import lar_schema as ls\n",
    "import pandas as pd\n",
    "import numpy as np"
   ]
  },
  {
   "attachments": {},
   "cell_type": "markdown",
   "metadata": {},
   "source": [
    "### Selecting a Random Sample"
   ]
  },
  {
   "attachments": {},
   "cell_type": "markdown",
   "metadata": {},
   "source": [
    "In this step of the data preparation, I will use the [Dask DataFrame](https://docs.dask.org/en/stable/dataframe.html) module to read the Loan Application Register file and select a random sample to work with it in the following sections."
   ]
  },
  {
   "cell_type": "code",
   "execution_count": 3,
   "metadata": {},
   "outputs": [],
   "source": [
    "# Path to the LAR .txt file\n",
    "lar_file_path = \"./data/2022_combined_mlar_header.txt\"\n",
    "\n",
    "# List of values considered as missing values\n",
    "missing_vals = [\"Exempt\", \"NA\", \"N/A\", \"#NA\", None, \"1111\", \"8888\", \"9999\"]\n",
    "\n",
    "# Read the LAR file into a dask dataframe\n",
    "ddf = dd.read_csv(lar_file_path, sep=\"|\", dtype=ls.lar_dask_dtypes, na_values=missing_vals)\n",
    "\n",
    "# Select a random sample, reset and drop the previous index, and compute the results\n",
    "lar = ddf.sample(frac=0.015).reset_index(drop=True).compute()"
   ]
  },
  {
   "attachments": {},
   "cell_type": "markdown",
   "metadata": {},
   "source": [
    "### Filtering Out Missing Data"
   ]
  },
  {
   "attachments": {},
   "cell_type": "markdown",
   "metadata": {},
   "source": [
    "In this section I will remove columns with missing values to have a better consistency in the data."
   ]
  },
  {
   "cell_type": "code",
   "execution_count": 4,
   "metadata": {},
   "outputs": [],
   "source": [
    "# Store number of rows and columns from DataFrame shape\n",
    "num_rows, num_cols = lar.shape\n",
    "\n",
    "# Drop rows that are all missing values, modify the original dataframe\n",
    "lar.dropna(how=\"all\", inplace=True)\n",
    "\n",
    "# Drop columns with > 90% of missing values, modify the original dataframe\n",
    "lar.dropna(thresh=num_rows*0.1, axis=1, inplace=True)\n",
    "\n",
    "# Reset and drop previous index, modify the original dataframe\n",
    "lar.reset_index(drop=True, inplace=True)"
   ]
  },
  {
   "attachments": {},
   "cell_type": "markdown",
   "metadata": {},
   "source": [
    "### Replacing Values"
   ]
  },
  {
   "attachments": {},
   "cell_type": "markdown",
   "metadata": {},
   "source": [
    "Some qualitative variables of the Loan Application Register have integers as values, as can be seen below:"
   ]
  },
  {
   "cell_type": "code",
   "execution_count": 5,
   "metadata": {},
   "outputs": [
    {
     "data": {
      "text/html": [
       "<div>\n",
       "<style scoped>\n",
       "    .dataframe tbody tr th:only-of-type {\n",
       "        vertical-align: middle;\n",
       "    }\n",
       "\n",
       "    .dataframe tbody tr th {\n",
       "        vertical-align: top;\n",
       "    }\n",
       "\n",
       "    .dataframe thead th {\n",
       "        text-align: right;\n",
       "    }\n",
       "</style>\n",
       "<table border=\"1\" class=\"dataframe\">\n",
       "  <thead>\n",
       "    <tr style=\"text-align: right;\">\n",
       "      <th></th>\n",
       "      <th>loan_type</th>\n",
       "      <th>action_taken</th>\n",
       "      <th>purchaser_type</th>\n",
       "    </tr>\n",
       "  </thead>\n",
       "  <tbody>\n",
       "    <tr>\n",
       "      <th>0</th>\n",
       "      <td>1</td>\n",
       "      <td>4</td>\n",
       "      <td>0</td>\n",
       "    </tr>\n",
       "    <tr>\n",
       "      <th>1</th>\n",
       "      <td>3</td>\n",
       "      <td>1</td>\n",
       "      <td>2</td>\n",
       "    </tr>\n",
       "    <tr>\n",
       "      <th>2</th>\n",
       "      <td>1</td>\n",
       "      <td>3</td>\n",
       "      <td>0</td>\n",
       "    </tr>\n",
       "    <tr>\n",
       "      <th>3</th>\n",
       "      <td>1</td>\n",
       "      <td>1</td>\n",
       "      <td>1</td>\n",
       "    </tr>\n",
       "    <tr>\n",
       "      <th>4</th>\n",
       "      <td>1</td>\n",
       "      <td>6</td>\n",
       "      <td>1</td>\n",
       "    </tr>\n",
       "  </tbody>\n",
       "</table>\n",
       "</div>"
      ],
      "text/plain": [
       "  loan_type action_taken purchaser_type\n",
       "0         1            4              0\n",
       "1         3            1              2\n",
       "2         1            3              0\n",
       "3         1            1              1\n",
       "4         1            6              1"
      ]
     },
     "execution_count": 5,
     "metadata": {},
     "output_type": "execute_result"
    }
   ],
   "source": [
    "lar[[\"loan_type\",\"action_taken\",\"purchaser_type\"]].head(5)"
   ]
  },
  {
   "attachments": {},
   "cell_type": "markdown",
   "metadata": {},
   "source": [
    "The `assign_labels` function will help on having descriptive values for the qualitative columns:"
   ]
  },
  {
   "cell_type": "code",
   "execution_count": 6,
   "metadata": {},
   "outputs": [],
   "source": [
    "def assign_labels(dict_mapper: dict, data_frame: pd.DataFrame):\n",
    "    \"\"\"Assigns labels to the given pandas DataFrame columns \n",
    "    based on a dictionary that maps values to labels.\"\"\"\n",
    "    cols = [col for col in dict_mapper.keys() if col in data_frame.columns]\n",
    "    for col in cols:\n",
    "        data_frame[col] = data_frame[col].map(dict_mapper[col])"
   ]
  },
  {
   "cell_type": "code",
   "execution_count": 7,
   "metadata": {},
   "outputs": [],
   "source": [
    "# Assign labels to qualitative columns\n",
    "assign_labels(ls.labels_to_values, lar)"
   ]
  },
  {
   "cell_type": "code",
   "execution_count": 8,
   "metadata": {},
   "outputs": [
    {
     "data": {
      "text/html": [
       "<div>\n",
       "<style scoped>\n",
       "    .dataframe tbody tr th:only-of-type {\n",
       "        vertical-align: middle;\n",
       "    }\n",
       "\n",
       "    .dataframe tbody tr th {\n",
       "        vertical-align: top;\n",
       "    }\n",
       "\n",
       "    .dataframe thead th {\n",
       "        text-align: right;\n",
       "    }\n",
       "</style>\n",
       "<table border=\"1\" class=\"dataframe\">\n",
       "  <thead>\n",
       "    <tr style=\"text-align: right;\">\n",
       "      <th></th>\n",
       "      <th>loan_type</th>\n",
       "      <th>action_taken</th>\n",
       "      <th>purchaser_type</th>\n",
       "    </tr>\n",
       "  </thead>\n",
       "  <tbody>\n",
       "    <tr>\n",
       "      <th>0</th>\n",
       "      <td>Conventional</td>\n",
       "      <td>Application withdrawn by applicant</td>\n",
       "      <td>Not applicable</td>\n",
       "    </tr>\n",
       "    <tr>\n",
       "      <th>1</th>\n",
       "      <td>Veterans Affairs</td>\n",
       "      <td>Loan originated</td>\n",
       "      <td>Ginnie Mae</td>\n",
       "    </tr>\n",
       "    <tr>\n",
       "      <th>2</th>\n",
       "      <td>Conventional</td>\n",
       "      <td>Application denied</td>\n",
       "      <td>Not applicable</td>\n",
       "    </tr>\n",
       "    <tr>\n",
       "      <th>3</th>\n",
       "      <td>Conventional</td>\n",
       "      <td>Loan originated</td>\n",
       "      <td>Fannie Mae</td>\n",
       "    </tr>\n",
       "    <tr>\n",
       "      <th>4</th>\n",
       "      <td>Conventional</td>\n",
       "      <td>Purchased loan</td>\n",
       "      <td>Fannie Mae</td>\n",
       "    </tr>\n",
       "  </tbody>\n",
       "</table>\n",
       "</div>"
      ],
      "text/plain": [
       "          loan_type                        action_taken  purchaser_type\n",
       "0      Conventional  Application withdrawn by applicant  Not applicable\n",
       "1  Veterans Affairs                     Loan originated      Ginnie Mae\n",
       "2      Conventional                  Application denied  Not applicable\n",
       "3      Conventional                     Loan originated      Fannie Mae\n",
       "4      Conventional                      Purchased loan      Fannie Mae"
      ]
     },
     "execution_count": 8,
     "metadata": {},
     "output_type": "execute_result"
    }
   ],
   "source": [
    "lar[[\"loan_type\",\"action_taken\",\"purchaser_type\"]].head(5)"
   ]
  },
  {
   "attachments": {},
   "cell_type": "markdown",
   "metadata": {},
   "source": [
    "### Assigning Data Types"
   ]
  },
  {
   "attachments": {},
   "cell_type": "markdown",
   "metadata": {},
   "source": [
    "Required?"
   ]
  },
  {
   "attachments": {},
   "cell_type": "markdown",
   "metadata": {},
   "source": [
    "### Merging External Data"
   ]
  },
  {
   "attachments": {},
   "cell_type": "markdown",
   "metadata": {},
   "source": [
    "#### Legal Entity Identifiers"
   ]
  },
  {
   "attachments": {},
   "cell_type": "markdown",
   "metadata": {},
   "source": [
    "The [LEI Search](https://search.gleif.org/#/search/) is a tool developed by the [Global Legal Entity Identifier Foundation](https://www.gleif.org/en) (GLEIF) to access and search the complete [Legal Entity Identifier](https://www.gleif.org/en/about-lei/introducing-the-legal-entity-identifier-lei) data pool for free. \n",
    "\n",
    "It contains legal entity reference data on entities participating in financial transactions all over the world. \n",
    "\n",
    "More details on the LEI dataset fields can be found [here](https://www.gleif.org/en/about-lei/common-data-file-format/current-versions/level-1-data-lei-cdf-3-1-format)."
   ]
  },
  {
   "cell_type": "code",
   "execution_count": 9,
   "metadata": {},
   "outputs": [],
   "source": [
    "# Dictionary to map original column names to new column names\n",
    "gleif_cols = {\"LEI\":\"lei\", \"Entity.LegalName\":\"institution_name\", \"Entity.HeadquartersAddress.City\":\"institution_city\", \"Entity.HeadquartersAddress.Country\":\"institution_country\", \"Entity.HeadquartersAddress.PostalCode\":\"institution_postal_code\", \"Entity.EntityCreationDate\":\"institution_years\"}\n",
    "\n",
    "# Read Legal Entity Identifier (LEI) data pool into a dask dataframe\n",
    "gleif = dd.read_csv(\"./data/gleif-data-pool.csv\", usecols=gleif_cols.keys(), dtype={\"Entity.HeadquartersAddress.PostalCode\":\"object\"})\n",
    "\n",
    "# Unique LEIs from LAR data\n",
    "unique_leis = lar[\"lei\"].unique()\n",
    "\n",
    "# Subset data for LEIs matching the ones in LAR\n",
    "gleif = gleif.loc[gleif[\"LEI\"].isin(unique_leis)].reset_index(drop=True)\n",
    "\n",
    "# Rename columns and compute the results\n",
    "gleif = gleif.rename(columns=gleif_cols).compute()"
   ]
  },
  {
   "attachments": {},
   "cell_type": "markdown",
   "metadata": {},
   "source": [
    "The `Entity.HeadquartersAddress.PostalCode` column has mixed data types due to typos in some records. To fix this, I defined the `clean_postal_code` function to clean the values."
   ]
  },
  {
   "cell_type": "code",
   "execution_count": 10,
   "metadata": {},
   "outputs": [],
   "source": [
    "# Define a lambda function to clean the postal code values\n",
    "clean_postal_code = lambda code: ''.join(filter(lambda x: x.isdigit() or x == '-', str(code)))\n",
    "\n",
    "# Applies a lambda function to slice postal codes after \"-\" character\n",
    "gleif[\"institution_postal_code\"] = gleif[\"institution_postal_code\"].apply(clean_postal_code)"
   ]
  },
  {
   "attachments": {},
   "cell_type": "markdown",
   "metadata": {},
   "source": [
    "\n",
    "The `Entity.EntityCreationDate` can be used to calculate the number of years since creation of every financial institution. This is done in the below code cell:"
   ]
  },
  {
   "cell_type": "code",
   "execution_count": 11,
   "metadata": {},
   "outputs": [],
   "source": [
    "# Slice creation date string without time zone and replace \"nan\" values with NumPy NaNs\n",
    "gleif[\"institution_years\"] = gleif[\"institution_years\"].str[:10]\n",
    "gleif[\"institution_years\"] = gleif[\"institution_years\"].replace(\"nan\",np.nan)\n",
    "\n",
    "# Fix a typo in an entity creation date, convert column to datetime\n",
    "gleif.loc[gleif[\"institution_years\"] == \"1493-01-01\", \"institution_years\"] = \"1943-01-01\"\n",
    "gleif[\"institution_years\"] = pd.to_datetime(gleif[\"institution_years\"])\n",
    "\n",
    "# Calculate the difference of each date from the 2021 year\n",
    "gleif[\"institution_years\"] = (pd.Timestamp(\"2021\") - gleif[\"institution_years\"]).astype(\"timedelta64[Y]\")"
   ]
  },
  {
   "attachments": {},
   "cell_type": "markdown",
   "metadata": {},
   "source": [
    "Now that the `gleif` DataFrame has been cleaned, proper data types can be assigned:"
   ]
  },
  {
   "cell_type": "code",
   "execution_count": 12,
   "metadata": {},
   "outputs": [],
   "source": [
    "gleif_dtypes = {\"lei\":\"category\", \"institution_name\":\"str\", \"institution_city\": \"category\", \"institution_country\": \"category\", \"institution_postal_code\": \"category\", \"institution_years\": \"float32\"}\n",
    "\n",
    "# Assign new data types to each column\n",
    "for col, dtype in gleif_dtypes.items():\n",
    "    gleif[col] = gleif[col].astype(dtype)"
   ]
  },
  {
   "cell_type": "code",
   "execution_count": 13,
   "metadata": {},
   "outputs": [],
   "source": [
    "# Merge GLEIF data with LAR data\n",
    "lar = lar.merge(right=gleif, how=\"left\")"
   ]
  },
  {
   "attachments": {},
   "cell_type": "markdown",
   "metadata": {},
   "source": [
    "#### State Names"
   ]
  },
  {
   "attachments": {},
   "cell_type": "markdown",
   "metadata": {},
   "source": [
    "To have more descriptive values in the data, I will merge the full name of every state code within the United States by using the [USPS State Abbreviations and FIPS Codes](https://www.bls.gov/respondents/mwr/electronic-data-interchange/appendix-d-usps-state-abbreviations-and-fips-codes.htm) data."
   ]
  },
  {
   "cell_type": "code",
   "execution_count": 14,
   "metadata": {},
   "outputs": [],
   "source": [
    "usps_abbrev_dtypes = {\"state_name\":\"category\", \"state_code\":\"category\"}\n",
    "\n",
    "# Read the USPS State Abbreviations data\n",
    "usps_abbrev = pd.read_csv(\"./data/us_state_codes.csv\", usecols=[\"state_name\",\"state_code\"], dtype=usps_abbrev_dtypes)"
   ]
  },
  {
   "cell_type": "code",
   "execution_count": 15,
   "metadata": {},
   "outputs": [],
   "source": [
    "# Merge USPS State Names data with LAR data\n",
    "lar = lar.merge(right=usps_abbrev, how=\"left\")"
   ]
  },
  {
   "attachments": {},
   "cell_type": "markdown",
   "metadata": {},
   "source": [
    "#### Gazetteer Files"
   ]
  },
  {
   "attachments": {},
   "cell_type": "markdown",
   "metadata": {},
   "source": [
    "The [2021 National Counties Gazetteer](https://www2.census.gov/geo/docs/maps-data/data/gazetteer/2021_Gazetteer/2021_Gaz_counties_national.zip) and [ZIP Code Tabulation Areas](https://www2.census.gov/geo/docs/maps-data/data/gazetteer/2022_Gazetteer/2022_Gaz_zcta_national.zip) data will be used to retrieve latitudes and longitudes by county code and by financial institution postal code, respectively.\n",
    "\n",
    "This data is provided by the [United States Census Bureau](https://www.census.gov/data.html) in the [Gazetteer Files](https://www.census.gov/geographies/reference-files/time-series/geo/gazetteer-files.2021.html) web page."
   ]
  },
  {
   "attachments": {},
   "cell_type": "markdown",
   "metadata": {},
   "source": [
    "> **Note**: Some Gazetteer `.txt` files may have excessive blank spaces in the header names. The following functions will fix this."
   ]
  },
  {
   "cell_type": "code",
   "execution_count": 16,
   "metadata": {},
   "outputs": [],
   "source": [
    "def downcast_numeric(data_frame: pd.DataFrame) -> pd.DataFrame:\n",
    "    \"\"\"Convert 64-bit numeric data types to 32-bit\"\"\"\n",
    "    # Convert all int64 columns to int32\n",
    "    int_cols = data_frame.select_dtypes(include=[\"int64\"]).columns\n",
    "    data_frame[int_cols] = data_frame[int_cols].astype(\"int32\")\n",
    "\n",
    "    # Convert all float64 columns to float32\n",
    "    float_cols = data_frame.select_dtypes(include=[\"float64\"]).columns\n",
    "    data_frame[float_cols] = data_frame[float_cols].astype(\"float32\")\n",
    "\n",
    "    return data_frame\n",
    "\n",
    "def clean_gazetteer(file_path: str, selected_cols: list, data_type: dict) -> pd.DataFrame:\n",
    "    \"\"\"Reads U.S. Gazetteer Files and returns a cleaned DataFrame\"\"\"\n",
    "    # Read Gazetteer .txt file\n",
    "    df = pd.read_csv(file_path, delimiter=\"\\t\", dtype=data_type)\n",
    "    \n",
    "    # Rename columns without blank spaces\n",
    "    df = df.rename(columns={col:col.strip() for col in df.columns})\n",
    "\n",
    "    # Downcast numeric columns to reduce memory usage\n",
    "    df = downcast_numeric(df)\n",
    "\n",
    "    return df[selected_cols]"
   ]
  },
  {
   "cell_type": "code",
   "execution_count": 17,
   "metadata": {},
   "outputs": [],
   "source": [
    "# National Counties Gazetteer\n",
    "gazc_names = {\"GEOID\":\"county_code\", \"NAME\":\"county_name\", \"INTPTLAT\":\"county_lat\", \"INTPTLONG\":\"county_long\"}\n",
    "gaz_counties = clean_gazetteer(\"./data/2021_Gaz_counties_national.txt\", gazc_names.keys(), data_type={\"GEOID\":\"category\"})\n",
    "gaz_counties = gaz_counties.rename(columns=gazc_names)"
   ]
  },
  {
   "cell_type": "code",
   "execution_count": 19,
   "metadata": {},
   "outputs": [],
   "source": [
    "# Merge National Counties Gazetteer data with LAR data\n",
    "lar = lar.merge(right=gaz_counties, how=\"left\")"
   ]
  },
  {
   "cell_type": "code",
   "execution_count": 20,
   "metadata": {},
   "outputs": [],
   "source": [
    "# ZIP Code Tabulation Areas\n",
    "gaz_zips_names = {\"GEOID\":\"institution_postal_code\", \"INTPTLAT\":\"institution_lat\", \"INTPTLONG\":\"institution_long\"}\n",
    "gaz_zips = clean_gazetteer(\"./data/2022_Gaz_zcta_national.txt\", gaz_zips_names.keys(), data_type={\"GEOID\":\"category\"})\n",
    "gaz_zips = gaz_zips.rename(columns=gaz_zips_names)"
   ]
  },
  {
   "cell_type": "code",
   "execution_count": 21,
   "metadata": {},
   "outputs": [],
   "source": [
    "# Merge ZIP Code Tabulation Areas data with LAR data\n",
    "lar = lar.merge(right=gaz_zips, how=\"left\")"
   ]
  },
  {
   "cell_type": "code",
   "execution_count": 22,
   "metadata": {},
   "outputs": [
    {
     "name": "stdout",
     "output_type": "stream",
     "text": [
      "<class 'pandas.core.frame.DataFrame'>\n",
      "Int64Index: 241152 entries, 0 to 241151\n",
      "Data columns (total 70 columns):\n",
      " #   Column                                    Non-Null Count   Dtype   \n",
      "---  ------                                    --------------   -----   \n",
      " 0   activity_year                             241152 non-null  float32 \n",
      " 1   lei                                       241152 non-null  object  \n",
      " 2   loan_type                                 241152 non-null  category\n",
      " 3   loan_purpose                              241152 non-null  category\n",
      " 4   preapproval                               241152 non-null  category\n",
      " 5   construction_method                       241152 non-null  category\n",
      " 6   occupancy_type                            241152 non-null  category\n",
      " 7   loan_amount                               241152 non-null  float32 \n",
      " 8   action_taken                              241152 non-null  category\n",
      " 9   state_code                                238397 non-null  object  \n",
      " 10  county_code                               236729 non-null  object  \n",
      " 11  census_tract                              236072 non-null  category\n",
      " 12  applicant_ethnicity_1                     241049 non-null  category\n",
      " 13  co_applicant_ethnicity_1                  73967 non-null   object  \n",
      " 14  applicant_ethnicity_observed              241152 non-null  category\n",
      " 15  co_applicant_ethnicity_observed           241152 non-null  category\n",
      " 16  applicant_race_1                          241116 non-null  category\n",
      " 17  co_applicant_race_1                       241137 non-null  category\n",
      " 18  applicant_race_observed                   241152 non-null  category\n",
      " 19  co_applicant_race_observed                241152 non-null  category\n",
      " 20  applicant_sex                             241152 non-null  category\n",
      " 21  co_applicant_sex                          241152 non-null  category\n",
      " 22  applicant_sex_observed                    241152 non-null  category\n",
      " 23  co_applicant_sex_observed                 241152 non-null  category\n",
      " 24  applicant_age                             216158 non-null  category\n",
      " 25  applicant_age_above_62                    216158 non-null  category\n",
      " 26  co_applicant_age                          88676 non-null   category\n",
      " 27  co_applicant_age_above_62                 88676 non-null   category\n",
      " 28  income                                    213827 non-null  float32 \n",
      " 29  purchaser_type                            241152 non-null  category\n",
      " 30  rate_spread                               117680 non-null  float32 \n",
      " 31  hoepa_status                              241152 non-null  category\n",
      " 32  lien_status                               241152 non-null  category\n",
      " 33  applicant_credit_scoring_model            231803 non-null  object  \n",
      " 34  co_applicant_credit_scoring_model         235070 non-null  object  \n",
      " 35  denial_reason_1                           237336 non-null  category\n",
      " 36  total_loan_costs                          112127 non-null  float32 \n",
      " 37  origination_charges                       113290 non-null  float32 \n",
      " 38  discount_points                           59799 non-null   float32 \n",
      " 39  lender_credits                            39470 non-null   float32 \n",
      " 40  interest_rate                             152933 non-null  float32 \n",
      " 41  debt_to_income_ratio                      158861 non-null  category\n",
      " 42  combined_loan_to_value_ratio              157474 non-null  float32 \n",
      " 43  loan_term                                 232601 non-null  float32 \n",
      " 44  intro_rate_period                         46513 non-null   float32 \n",
      " 45  balloon_payment                           236588 non-null  category\n",
      " 46  interest_only_payment                     236588 non-null  category\n",
      " 47  negative_amortization                     236588 non-null  category\n",
      " 48  other_non_amortizing_features             236588 non-null  category\n",
      " 49  property_value                            186282 non-null  float32 \n",
      " 50  manufactured_home_secured_property_type   236598 non-null  category\n",
      " 51  manufactured_home_land_property_interest  236597 non-null  category\n",
      " 52  total_units                               241152 non-null  category\n",
      " 53  submission_of_application                 236589 non-null  category\n",
      " 54  initially_payable_to_institution          236589 non-null  category\n",
      " 55  aus_1                                     230153 non-null  object  \n",
      " 56  reverse_mortgage                          236594 non-null  category\n",
      " 57  open_end_line_of_credit                   236611 non-null  category\n",
      " 58  business_or_commercial_purpose            236584 non-null  category\n",
      " 59  institution_name                          241150 non-null  object  \n",
      " 60  institution_city                          241150 non-null  category\n",
      " 61  institution_country                       241150 non-null  category\n",
      " 62  institution_postal_code                   241150 non-null  object  \n",
      " 63  institution_years                         215297 non-null  float32 \n",
      " 64  state_name                                238394 non-null  category\n",
      " 65  county_name                               236726 non-null  object  \n",
      " 66  county_lat                                236726 non-null  float32 \n",
      " 67  county_long                               236726 non-null  float32 \n",
      " 68  institution_lat                           224032 non-null  float32 \n",
      " 69  institution_long                          224032 non-null  float32 \n",
      "dtypes: category(42), float32(18), object(10)\n",
      "memory usage: 50.1+ MB\n"
     ]
    }
   ],
   "source": [
    "lar.info()"
   ]
  },
  {
   "attachments": {},
   "cell_type": "markdown",
   "metadata": {},
   "source": [
    "## Resources\n",
    "- [2022 HMDA Documentation](https://ffiec.cfpb.gov/documentation/2022)\n",
    "- [2022 Modified LAR Schema](https://ffiec.cfpb.gov/documentation/2022/modified-lar-schema/)\n",
    "- [Using Modified LAR Data](https://github.com/cfpb/hmda-platform/blob/master/docs/UsingModifiedLar.md)\n",
    "- [2022 HMDA Data on Mortgage Lending Now Available](https://www.consumerfinance.gov/about-us/newsroom/2022-hmda-data-on-mortgage-lending-now-available/)"
   ]
  }
 ],
 "metadata": {
  "kernelspec": {
   "display_name": "hum-dah-eda",
   "language": "python",
   "name": "python3"
  },
  "language_info": {
   "codemirror_mode": {
    "name": "ipython",
    "version": 3
   },
   "file_extension": ".py",
   "mimetype": "text/x-python",
   "name": "python",
   "nbconvert_exporter": "python",
   "pygments_lexer": "ipython3",
   "version": "3.10.9"
  },
  "orig_nbformat": 4
 },
 "nbformat": 4,
 "nbformat_minor": 2
}
