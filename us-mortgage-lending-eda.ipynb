{
 "cells": [
  {
   "attachments": {},
   "cell_type": "markdown",
   "metadata": {},
   "source": [
    "# US Mortgage Lending Analysis"
   ]
  },
  {
   "attachments": {},
   "cell_type": "markdown",
   "metadata": {},
   "source": [
    "<img\n",
    "    style=\"width:800px; height:300px; object-fit:cover;\"\n",
    "    src=\"https://free4kwallpapers.com/uploads/originals/2018/06/09/itap-of-some-more-beach-houses-wallpaper.jpg\"\n",
    "/>"
   ]
  },
  {
   "attachments": {},
   "cell_type": "markdown",
   "metadata": {},
   "source": [
    "## Introduction"
   ]
  },
  {
   "attachments": {},
   "cell_type": "markdown",
   "metadata": {},
   "source": [
    "This project will conduct an exploratory analysis on the loan-level data reported by banks and financial institutions in the United States on mortgages granted to the public. The [Home Mortgage Disclosure Act](https://www.consumerfinance.gov/data-research/hmda/) mandates that certain banks and institutions in the US report this information periodically.\n",
    "\n",
    "The dataset used in this project was downloaded as a CSV file directly from the [HMDA Dataset Filtering](https://ffiec.cfpb.gov/data-browser/data/2021?category=nationwide) website. It contains 26 million records that financial institutions reported nationwide in 2021, with 99 variables, and weighs 10.21 gigabytes.\n",
    "\n",
    "A detailed explanation of the data fields and definitions can be found [here](https://ffiec.cfpb.gov/documentation/2020/lar-data-fields/)."
   ]
  },
  {
   "attachments": {},
   "cell_type": "markdown",
   "metadata": {},
   "source": [
    "> **Note**: For more details on this project, please refer to its [Github repository](https://github.com/mandelbrojt/hum-dah)."
   ]
  },
  {
   "attachments": {},
   "cell_type": "markdown",
   "metadata": {},
   "source": [
    "The HMDA dataset provides information on loans, applicants, lenders, and properties, which will be referred to as the **study subjects**. The questions posed in this analysis will be based around these study subjects.\n",
    "\n",
    "<figure>\n",
    "    <p align=center>\n",
    "        <img\n",
    "            src=\"https://i.imgur.com/1r7ODn5.png\"\n",
    "        />\n",
    "    </p>\n",
    "    <figcaption align = \"center\"> \n",
    "        <b>Diagram 1</b>: Study Subjects from HMDA dataset.\n",
    "    </figcaption>\n",
    "</figure>"
   ]
  },
  {
   "attachments": {},
   "cell_type": "markdown",
   "metadata": {},
   "source": [
    "## Research Questions"
   ]
  },
  {
   "attachments": {},
   "cell_type": "markdown",
   "metadata": {},
   "source": [
    "## Exploratory Data Analysis"
   ]
  },
  {
   "attachments": {},
   "cell_type": "markdown",
   "metadata": {},
   "source": [
    "### Importing Libraries"
   ]
  },
  {
   "cell_type": "code",
   "execution_count": 14,
   "metadata": {},
   "outputs": [],
   "source": [
    "import numpy as np\n",
    "import pandas as pd"
   ]
  },
  {
   "attachments": {},
   "cell_type": "markdown",
   "metadata": {},
   "source": [
    "### Preparing the Dataset"
   ]
  },
  {
   "attachments": {},
   "cell_type": "markdown",
   "metadata": {},
   "source": [
    "The original HMDA dataset is ordered by each bank or financial institution. To explore the data, I will select a small sample. To ensure that I have a representative sample, I will randomly shuffle every record in the CSV file, preventing an over-representation of any one bank or financial institution.\n",
    "\n",
    "I will be using the `shuf` command to \"randomly\" shuffle the lines of the original HMDA file that was downloaded from the [HMDA Dataset Filtering](https://ffiec.cfpb.gov/data-browser/data/2021?category=nationwide). \n",
    "\n",
    "The `shuf` command can only be used in Linux and other Unix-based systems, and it can be installed in macOS with the following command through the command-line:\n",
    "```\n",
    "brew install coreutils\n",
    "```"
   ]
  },
  {
   "cell_type": "code",
   "execution_count": 9,
   "metadata": {},
   "outputs": [
    {
     "name": "stdout",
     "output_type": "stream",
     "text": [
      "shuf (GNU coreutils) 9.1\n",
      "Copyright (C) 2022 Free Software Foundation, Inc.\n",
      "License GPLv3+: GNU GPL version 3 or later <https://gnu.org/licenses/gpl.html>.\n",
      "This is free software: you are free to change and redistribute it.\n",
      "There is NO WARRANTY, to the extent permitted by law.\n",
      "\n",
      "Written by Paul Eggert.\n"
     ]
    }
   ],
   "source": [
    "!shuf --version"
   ]
  },
  {
   "attachments": {},
   "cell_type": "markdown",
   "metadata": {},
   "source": [
    "**Step 1**: Skip the first line (the header) of the `datasets/year_2021.csv` file, pipe the output to the `shuf` command to shuffle the remaining lines, and create another file with all of its rows shuffled by executing the following command in the command line:\n",
    "```\n",
    "tail -n +2 datasets/year_2021.csv | shuf > datasets/year_2021_shuffled.csv\n",
    "```\n",
    "\n",
    "**Step 2**: Open the `datasets/year_2021_shuffled.csv` with the `ed` text editor and the `-s` option to run commands in batch mode. Then insert the first line (headers) of `datasets/year_2021.csv` (non-shuffled file) to the shuffled file by executing the following command in the command line:\n",
    "```\n",
    "ed -s datasets/year_2021_shuffled.csv <<EOF\n",
    "1i\n",
    "$(head -n 1 datasets/year_2021.csv)\n",
    ".\n",
    "wq\n",
    "EOF\n",
    "```"
   ]
  },
  {
   "cell_type": "code",
   "execution_count": 63,
   "metadata": {},
   "outputs": [],
   "source": [
    "# File path to the shuffled HMDA dataset\n",
    "hmda_shuffled_data_path = \"./datasets/year_2021_shuffled.csv\""
   ]
  },
  {
   "cell_type": "code",
   "execution_count": 64,
   "metadata": {},
   "outputs": [],
   "source": [
    "# Creates a DataFrame with only n number of rows\n",
    "mortgage_df = pd.read_csv(hmda_shuffled_data_path, nrows=10000)"
   ]
  },
  {
   "attachments": {},
   "cell_type": "markdown",
   "metadata": {},
   "source": [
    "### Loading Random Sample"
   ]
  },
  {
   "cell_type": "code",
   "execution_count": 12,
   "metadata": {},
   "outputs": [],
   "source": [
    "# # Set the sample size\n",
    "# sample_size = 10000\n",
    "\n",
    "# # Creates a random sequence without repetition (permutation)\n",
    "# random_rows = np.random.permutation(sample_size)"
   ]
  },
  {
   "cell_type": "code",
   "execution_count": 3,
   "metadata": {},
   "outputs": [],
   "source": [
    "# # Omits numbers that are not in the random sequence\n",
    "# sampler = lambda x: x not in random_rows\n",
    "\n",
    "# # Loads dataset using random rows\n",
    "# mortgage_df = pd.read_csv(\"./datasets/year_2021.csv\", skiprows=sampler)"
   ]
  },
  {
   "attachments": {},
   "cell_type": "markdown",
   "metadata": {},
   "source": [
    "### Filtering Missing Data"
   ]
  },
  {
   "cell_type": "code",
   "execution_count": 72,
   "metadata": {},
   "outputs": [
    {
     "data": {
      "text/plain": [
       "(10000, 73)"
      ]
     },
     "execution_count": 72,
     "metadata": {},
     "output_type": "execute_result"
    }
   ],
   "source": [
    "num_rows, num_cols = mortgage_df.shape"
   ]
  },
  {
   "cell_type": "code",
   "execution_count": 66,
   "metadata": {},
   "outputs": [],
   "source": [
    "# Drops rows that are all missing values\n",
    "mortgage_df.dropna(how=\"all\", inplace=True)\n",
    "\n",
    "# Drops columns that have more than 90% of its values as NAs\n",
    "mortgage_df.dropna(thresh=num_rows*0.1, axis=1, inplace=True)\n",
    "\n",
    "# Drops columns that are all missing values\n",
    "#mortgage_df.dropna(how=\"all\", axis=1, inplace=True)\n",
    "\n",
    "# Reset index values\n",
    "mortgage_df.reset_index(drop=True, inplace=True)"
   ]
  },
  {
   "cell_type": "code",
   "execution_count": 67,
   "metadata": {},
   "outputs": [],
   "source": [
    "# Freequency table of missing values per column\n",
    "na_counts = mortgage_df.isna().sum().sort_values(ascending=False)\n",
    "\n",
    "# Filters out columns with non-missing values\n",
    "na_counts = na_counts[na_counts > 0]\n",
    "\n",
    "# Convert to relative frequency table\n",
    "na_freq_tab = na_counts / num_rows"
   ]
  },
  {
   "cell_type": "code",
   "execution_count": 68,
   "metadata": {},
   "outputs": [
    {
     "data": {
      "text/plain": [
       "intro_rate_period            0.8990\n",
       "discount_points              0.7609\n",
       "lender_credits               0.7391\n",
       "co-applicant_age_above_62    0.5965\n",
       "rate_spread                  0.4335\n",
       "total_loan_costs             0.3938\n",
       "origination_charges          0.3901\n",
       "debt_to_income_ratio         0.3450\n",
       "loan_to_value_ratio          0.3397\n",
       "interest_rate                0.2927\n",
       "property_value               0.2195\n",
       "income                       0.1422\n",
       "applicant_age_above_62       0.0948\n",
       "census_tract                 0.0135\n",
       "county_code                  0.0117\n",
       "loan_term                    0.0101\n",
       "state_code                   0.0067\n",
       "conforming_loan_limit        0.0033\n",
       "co-applicant_ethnicity-1     0.0003\n",
       "applicant_ethnicity-1        0.0002\n",
       "applicant_race-1             0.0002\n",
       "co-applicant_race-1          0.0002\n",
       "dtype: float64"
      ]
     },
     "execution_count": 68,
     "metadata": {},
     "output_type": "execute_result"
    }
   ],
   "source": [
    "na_freq_tab"
   ]
  },
  {
   "cell_type": "code",
   "execution_count": 73,
   "metadata": {},
   "outputs": [
    {
     "name": "stdout",
     "output_type": "stream",
     "text": [
      "<class 'pandas.core.frame.DataFrame'>\n",
      "RangeIndex: 10000 entries, 0 to 9999\n",
      "Data columns (total 73 columns):\n",
      " #   Column                                    Non-Null Count  Dtype  \n",
      "---  ------                                    --------------  -----  \n",
      " 0   activity_year                             10000 non-null  int64  \n",
      " 1   lei                                       10000 non-null  object \n",
      " 2   derived_msa-md                            10000 non-null  int64  \n",
      " 3   state_code                                9933 non-null   object \n",
      " 4   county_code                               9883 non-null   float64\n",
      " 5   census_tract                              9865 non-null   float64\n",
      " 6   conforming_loan_limit                     9967 non-null   object \n",
      " 7   derived_loan_product_type                 10000 non-null  object \n",
      " 8   derived_dwelling_category                 10000 non-null  object \n",
      " 9   derived_ethnicity                         10000 non-null  object \n",
      " 10  derived_race                              10000 non-null  object \n",
      " 11  derived_sex                               10000 non-null  object \n",
      " 12  action_taken                              10000 non-null  int64  \n",
      " 13  purchaser_type                            10000 non-null  int64  \n",
      " 14  preapproval                               10000 non-null  int64  \n",
      " 15  loan_type                                 10000 non-null  int64  \n",
      " 16  loan_purpose                              10000 non-null  int64  \n",
      " 17  lien_status                               10000 non-null  int64  \n",
      " 18  reverse_mortgage                          10000 non-null  int64  \n",
      " 19  open-end_line_of_credit                   10000 non-null  int64  \n",
      " 20  business_or_commercial_purpose            10000 non-null  int64  \n",
      " 21  loan_amount                               10000 non-null  float64\n",
      " 22  loan_to_value_ratio                       6603 non-null   object \n",
      " 23  interest_rate                             7073 non-null   object \n",
      " 24  rate_spread                               5665 non-null   object \n",
      " 25  hoepa_status                              10000 non-null  int64  \n",
      " 26  total_loan_costs                          6062 non-null   object \n",
      " 27  origination_charges                       6099 non-null   object \n",
      " 28  discount_points                           2391 non-null   object \n",
      " 29  lender_credits                            2609 non-null   object \n",
      " 30  loan_term                                 9899 non-null   object \n",
      " 31  intro_rate_period                         1010 non-null   object \n",
      " 32  negative_amortization                     10000 non-null  int64  \n",
      " 33  interest_only_payment                     10000 non-null  int64  \n",
      " 34  balloon_payment                           10000 non-null  int64  \n",
      " 35  other_nonamortizing_features              10000 non-null  int64  \n",
      " 36  property_value                            7805 non-null   object \n",
      " 37  construction_method                       10000 non-null  int64  \n",
      " 38  occupancy_type                            10000 non-null  int64  \n",
      " 39  manufactured_home_secured_property_type   10000 non-null  int64  \n",
      " 40  manufactured_home_land_property_interest  10000 non-null  int64  \n",
      " 41  total_units                               10000 non-null  object \n",
      " 42  income                                    8578 non-null   float64\n",
      " 43  debt_to_income_ratio                      6550 non-null   object \n",
      " 44  applicant_credit_score_type               10000 non-null  int64  \n",
      " 45  co-applicant_credit_score_type            10000 non-null  int64  \n",
      " 46  applicant_ethnicity-1                     9998 non-null   float64\n",
      " 47  co-applicant_ethnicity-1                  9997 non-null   float64\n",
      " 48  applicant_ethnicity_observed              10000 non-null  int64  \n",
      " 49  co-applicant_ethnicity_observed           10000 non-null  int64  \n",
      " 50  applicant_race-1                          9998 non-null   float64\n",
      " 51  co-applicant_race-1                       9998 non-null   float64\n",
      " 52  applicant_race_observed                   10000 non-null  int64  \n",
      " 53  co-applicant_race_observed                10000 non-null  int64  \n",
      " 54  applicant_sex                             10000 non-null  int64  \n",
      " 55  co-applicant_sex                          10000 non-null  int64  \n",
      " 56  applicant_sex_observed                    10000 non-null  int64  \n",
      " 57  co-applicant_sex_observed                 10000 non-null  int64  \n",
      " 58  applicant_age                             10000 non-null  object \n",
      " 59  co-applicant_age                          10000 non-null  object \n",
      " 60  applicant_age_above_62                    9052 non-null   object \n",
      " 61  co-applicant_age_above_62                 4035 non-null   object \n",
      " 62  submission_of_application                 10000 non-null  int64  \n",
      " 63  initially_payable_to_institution          10000 non-null  int64  \n",
      " 64  aus-1                                     10000 non-null  int64  \n",
      " 65  denial_reason-1                           10000 non-null  int64  \n",
      " 66  tract_population                          10000 non-null  int64  \n",
      " 67  tract_minority_population_percent         10000 non-null  float64\n",
      " 68  ffiec_msa_md_median_family_income         10000 non-null  int64  \n",
      " 69  tract_to_msa_income_percentage            10000 non-null  int64  \n",
      " 70  tract_owner_occupied_units                10000 non-null  int64  \n",
      " 71  tract_one_to_four_family_homes            10000 non-null  int64  \n",
      " 72  tract_median_age_of_housing_units         10000 non-null  int64  \n",
      "dtypes: float64(9), int64(40), object(24)\n",
      "memory usage: 5.6+ MB\n"
     ]
    }
   ],
   "source": [
    "mortgage_df.info()"
   ]
  },
  {
   "cell_type": "code",
   "execution_count": 70,
   "metadata": {},
   "outputs": [
    {
     "data": {
      "text/plain": [
       "int64      40\n",
       "object     24\n",
       "float64     9\n",
       "dtype: int64"
      ]
     },
     "execution_count": 70,
     "metadata": {},
     "output_type": "execute_result"
    }
   ],
   "source": [
    "# Frequency table of column data types\n",
    "mortgage_df.dtypes.value_counts()"
   ]
  },
  {
   "cell_type": "code",
   "execution_count": 71,
   "metadata": {},
   "outputs": [
    {
     "data": {
      "text/plain": [
       "array([6, 3, 1, 5, 4])"
      ]
     },
     "execution_count": 71,
     "metadata": {},
     "output_type": "execute_result"
    }
   ],
   "source": [
    "mortgage_df[\"action_taken\"].unique()[:5]"
   ]
  },
  {
   "cell_type": "code",
   "execution_count": 13,
   "metadata": {},
   "outputs": [],
   "source": [
    "cols_to_dtypes = {\n",
    "    # The calendar year the data submission covers\n",
    "    \"activity_year\":\"object\",\n",
    "    # A financial institution’s Legal Entity Identifier\n",
    "    \"lei\":\"str\",\n",
    "    # The 5 digit derived metropolitan statistical area or metropolitan division code\n",
    "    \"derived_msa-md\":\"object\",\n",
    "    # Two-letter state code\n",
    "    \"state_code\":\"str\",\n",
    "    # State-county FIPS code\n",
    "    \"county_code\":\"object\",\n",
    "    # 11 digit census tract number\n",
    "    \"census_tract\":\"object\",\n",
    "    # Whether the reported loan amount exceeds the GSE conforming loan limit\n",
    "    \"conforming_loan_limit\":\"category\",\n",
    "    # Derived loan product type from Loan Type and Lien Status fields\n",
    "    \"derived_loan_product_type\":\"category\",\n",
    "    # Derived dwelling type from Construction Method and Total Units fields\n",
    "    \"derived_dwelling_category\":\"category\",\n",
    "    # Single aggregated ethnicity categorization derived from \n",
    "    # applicant/borrower and co-applicant/co-borrower ethnicity fields\n",
    "    \"derived_ethnicity\":\"category\",\n",
    "    # Single aggregated race categorization derive from\n",
    "    # applicant/borrower and co-applicant/co-borrower race fields\n",
    "    \"derived_race\":\"category\",\n",
    "    # Single aggregated sex categorization derived from \n",
    "    # applicant/borrower and co-applicant/co-borrower sex fields\"\n",
    "    \"derived_sex\":\"category\",\n",
    "    # The action taken on the covered loan or application\n",
    "    \"action_taken\":\"category\",\n",
    "    # Type of entity purchasing a covered loan from the institution\n",
    "    \"purchaser_type\":\"category\",\n",
    "    # Whether the covered loan or application involved a request for\n",
    "    # a preapproval of a home purchase loan under a preapproval program\n",
    "    \"preapproval\":\"category\"\n",
    "}"
   ]
  },
  {
   "cell_type": "code",
   "execution_count": null,
   "metadata": {},
   "outputs": [],
   "source": [
    "cat_with_levels = [\n",
    "    \"action_taken\", \"purchaser_type\"\n",
    "]"
   ]
  }
 ],
 "metadata": {
  "kernelspec": {
   "display_name": "hum-dah-eda",
   "language": "python",
   "name": "python3"
  },
  "language_info": {
   "codemirror_mode": {
    "name": "ipython",
    "version": 3
   },
   "file_extension": ".py",
   "mimetype": "text/x-python",
   "name": "python",
   "nbconvert_exporter": "python",
   "pygments_lexer": "ipython3",
   "version": "3.10.9"
  },
  "orig_nbformat": 4,
  "vscode": {
   "interpreter": {
    "hash": "0e4ff8d581e4da687254e8c20c578c5c5b869ca39f6e798fb5aa4f3de6d47936"
   }
  }
 },
 "nbformat": 4,
 "nbformat_minor": 2
}
